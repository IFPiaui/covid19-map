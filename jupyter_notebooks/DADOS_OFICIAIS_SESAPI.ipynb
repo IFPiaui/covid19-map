{
 "cells": [
  {
   "cell_type": "markdown",
   "metadata": {
    "colab_type": "text",
    "id": "Vc8fY0E3buyQ"
   },
   "source": [
    "## TRABALHANDO COM DADOS DA PLANILHA OFICIAL DA SESAPI / COVID-19\n",
    "Francisco Alysson"
   ]
  },
  {
   "cell_type": "code",
   "execution_count": 1,
   "metadata": {
    "colab": {},
    "colab_type": "code",
    "id": "xu5-MQJWnPJ-"
   },
   "outputs": [],
   "source": [
    "import matplotlib.pyplot as plt\n",
    "import pandas as pd"
   ]
  },
  {
   "cell_type": "markdown",
   "metadata": {
    "colab_type": "text",
    "id": "RkSBL4EBcRZb"
   },
   "source": [
    "Carregando os dados de uma das planilhas do documento ao passar o valor do respectivo código para o parâmetro: gid=[código_da_planilha]\n",
    "Na preparação da URL é preciso fazer o replace descrito na linha 2 do seguinte bloco:"
   ]
  },
  {
   "cell_type": "code",
   "execution_count": 2,
   "metadata": {
    "colab": {},
    "colab_type": "code",
    "id": "FgKEBzy-nl0i"
   },
   "outputs": [],
   "source": [
    "url_dados_pi = \"https://docs.google.com/spreadsheets/d/1b-GkDhhxJIwWcA6tk3z4eX58f-f1w2TA2f2XrI4XB1w/edit#gid={planilha}\"\n",
    "url_dados_pi = url_dados_pi.replace('/edit#gid=', '/export?format=csv&gid=')\n",
    "df_sexo = pd.read_csv(url_dados_pi.format(planilha=0)) #setar o identificador específico"
   ]
  },
  {
   "cell_type": "code",
   "execution_count": 3,
   "metadata": {
    "colab": {},
    "colab_type": "code",
    "id": "VKkysMQqztEg"
   },
   "outputs": [
    {
     "data": {
      "text/plain": [
       "<bound method NDFrame.head of    Id       Sexo  Quantidade  Unnamed: 3  Unnamed: 4  Unnamed: 5  Unnamed: 6  \\\n",
       "0   1  Masculino        1099         NaN         NaN         NaN         NaN   \n",
       "1   2   Feminino        1188         NaN         NaN         NaN         NaN   \n",
       "\n",
       "   2287  \n",
       "0   NaN  \n",
       "1   NaN  >"
      ]
     },
     "execution_count": 3,
     "metadata": {},
     "output_type": "execute_result"
    }
   ],
   "source": [
    "df_sexo.head"
   ]
  },
  {
   "cell_type": "markdown",
   "metadata": {
    "colab_type": "text",
    "id": "rS7D1D4eekmf"
   },
   "source": [
    "Preenchendo as variáveis com os valores para o gráfico"
   ]
  },
  {
   "cell_type": "code",
   "execution_count": 4,
   "metadata": {
    "colab": {},
    "colab_type": "code",
    "id": "OxpauUVjnq6p"
   },
   "outputs": [],
   "source": [
    "labels = []\n",
    "valores = []\n",
    "labels = df_sexo['Quantidade']\n",
    "valores = df_sexo['Quantidade']"
   ]
  },
  {
   "cell_type": "code",
   "execution_count": 5,
   "metadata": {
    "colab": {
     "base_uri": "https://localhost:8080/",
     "height": 247
    },
    "colab_type": "code",
    "id": "L0tdOJXM0eJg",
    "outputId": "3f35031c-c009-4098-b637-fff32315bcbb"
   },
   "outputs": [
    {
     "data": {
      "image/png": "[encoded data removed]",
      "text/plain": [
       "<Figure size 432x288 with 1 Axes>"
      ]
     },
     "metadata": {},
     "output_type": "display_data"
    }
   ],
   "source": [
    "plt.pie(valores, labels=labels, autopct='%1.0f%%',shadow=True, startangle=90)\n",
    "plt.axis('equal')\n",
    "plt.legend(df_sexo['Sexo'])\n",
    "plt.show()"
   ]
  },
  {
   "cell_type": "markdown",
   "metadata": {
    "colab_type": "text",
    "id": "NA_mNszsSzqp"
   },
   "source": [
    "**COMORBIDADES**\n",
    "\n"
   ]
  },
  {
   "cell_type": "code",
   "execution_count": 6,
   "metadata": {
    "colab": {},
    "colab_type": "code",
    "id": "rkDF6gNpS8O3"
   },
   "outputs": [],
   "source": [
    "url_dados_pi = \"https://docs.google.com/spreadsheets/d/1b-GkDhhxJIwWcA6tk3z4eX58f-f1w2TA2f2XrI4XB1w/edit#gid={planilha}\"\n",
    "url_dados_pi = url_dados_pi.replace('/edit#gid=', '/export?format=csv&gid=')\n",
    "df_comorbidades = pd.read_csv(url_dados_pi.format(planilha=687147050)) #setar o identificador da planilha "
   ]
  },
  {
   "cell_type": "code",
   "execution_count": 7,
   "metadata": {
    "colab": {},
    "colab_type": "code",
    "id": "vcrA-xOcTQbl"
   },
   "outputs": [],
   "source": [
    "labels = df_comorbidades['Qtde']\n",
    "valores = df_comorbidades['Qtde']"
   ]
  },
  {
   "cell_type": "code",
   "execution_count": 12,
   "metadata": {
    "colab": {
     "base_uri": "https://localhost:8080/",
     "height": 264
    },
    "colab_type": "code",
    "id": "AoB3Qae2Wu5T",
    "outputId": "12563365-7b2a-4d41-83f2-dcd36d1a2f8f"
   },
   "outputs": [
    {
     "data": {
      "image/png": "[encoded data removed]",
      "text/plain": [
       "<Figure size 432x288 with 1 Axes>"
      ]
     },
     "metadata": {
      "needs_background": "light"
     },
     "output_type": "display_data"
    }
   ],
   "source": [
    "plt.pie(valores, labels=labels, autopct='%1.0f%%',shadow=False, startangle=90)\n",
    "plt.title(\"Morbidades\")\n",
    "#plt.axis('equal')\n",
    "plt.legend(df_comorbidades['Morbidades'], loc='lower right')\n",
    "plt.show()"
   ]
  },
  {
   "cell_type": "code",
   "execution_count": 18,
   "metadata": {},
   "outputs": [
    {
     "data": {
      "text/html": [
       "<div>\n",
       "<style scoped>\n",
       "    .dataframe tbody tr th:only-of-type {\n",
       "        vertical-align: middle;\n",
       "    }\n",
       "\n",
       "    .dataframe tbody tr th {\n",
       "        vertical-align: top;\n",
       "    }\n",
       "\n",
       "    .dataframe thead th {\n",
       "        text-align: right;\n",
       "    }\n",
       "</style>\n",
       "<table border=\"1\" class=\"dataframe\">\n",
       "  <thead>\n",
       "    <tr style=\"text-align: right;\">\n",
       "      <th></th>\n",
       "      <th>Morbidades</th>\n",
       "      <th>Qtde</th>\n",
       "      <th>Percentual</th>\n",
       "    </tr>\n",
       "  </thead>\n",
       "  <tbody>\n",
       "    <tr>\n",
       "      <th>0</th>\n",
       "      <td>Cardiopatia incluindo hipertensão</td>\n",
       "      <td>47</td>\n",
       "      <td>47,96</td>\n",
       "    </tr>\n",
       "    <tr>\n",
       "      <th>1</th>\n",
       "      <td>Diabetes</td>\n",
       "      <td>29</td>\n",
       "      <td>29,59</td>\n",
       "    </tr>\n",
       "    <tr>\n",
       "      <th>2</th>\n",
       "      <td>Pneumopatia</td>\n",
       "      <td>4</td>\n",
       "      <td>4,08</td>\n",
       "    </tr>\n",
       "    <tr>\n",
       "      <th>3</th>\n",
       "      <td>Doença neurológica crônica ou neuromuscular</td>\n",
       "      <td>2</td>\n",
       "      <td>2,04</td>\n",
       "    </tr>\n",
       "    <tr>\n",
       "      <th>4</th>\n",
       "      <td>Doença Renal</td>\n",
       "      <td>0</td>\n",
       "      <td>0,00</td>\n",
       "    </tr>\n",
       "    <tr>\n",
       "      <th>5</th>\n",
       "      <td>Imunodepressão</td>\n",
       "      <td>2</td>\n",
       "      <td>2,04</td>\n",
       "    </tr>\n",
       "    <tr>\n",
       "      <th>6</th>\n",
       "      <td>Obesidade</td>\n",
       "      <td>1</td>\n",
       "      <td>1,02</td>\n",
       "    </tr>\n",
       "    <tr>\n",
       "      <th>7</th>\n",
       "      <td>Asma</td>\n",
       "      <td>0</td>\n",
       "      <td>0,00</td>\n",
       "    </tr>\n",
       "    <tr>\n",
       "      <th>8</th>\n",
       "      <td>Doença hematológica</td>\n",
       "      <td>0</td>\n",
       "      <td>0,00</td>\n",
       "    </tr>\n",
       "    <tr>\n",
       "      <th>9</th>\n",
       "      <td>Doença hepática</td>\n",
       "      <td>0</td>\n",
       "      <td>0,00</td>\n",
       "    </tr>\n",
       "    <tr>\n",
       "      <th>10</th>\n",
       "      <td>Puérpera</td>\n",
       "      <td>0</td>\n",
       "      <td>0,00</td>\n",
       "    </tr>\n",
       "    <tr>\n",
       "      <th>11</th>\n",
       "      <td>Síndrome de Down</td>\n",
       "      <td>0</td>\n",
       "      <td>0,00</td>\n",
       "    </tr>\n",
       "    <tr>\n",
       "      <th>12</th>\n",
       "      <td>Neoplasia</td>\n",
       "      <td>3</td>\n",
       "      <td>3,06</td>\n",
       "    </tr>\n",
       "    <tr>\n",
       "      <th>13</th>\n",
       "      <td>Sem comorbidades</td>\n",
       "      <td>10</td>\n",
       "      <td>10,20</td>\n",
       "    </tr>\n",
       "  </tbody>\n",
       "</table>\n",
       "</div>"
      ],
      "text/plain": [
       "                                     Morbidades  Qtde Percentual\n",
       "0             Cardiopatia incluindo hipertensão    47      47,96\n",
       "1                                      Diabetes    29      29,59\n",
       "2                                   Pneumopatia     4       4,08\n",
       "3   Doença neurológica crônica ou neuromuscular     2       2,04\n",
       "4                                  Doença Renal     0       0,00\n",
       "5                                Imunodepressão     2       2,04\n",
       "6                                     Obesidade     1       1,02\n",
       "7                                          Asma     0       0,00\n",
       "8                           Doença hematológica     0       0,00\n",
       "9                               Doença hepática     0       0,00\n",
       "10                                     Puérpera     0       0,00\n",
       "11                             Síndrome de Down     0       0,00\n",
       "12                                    Neoplasia     3       3,06\n",
       "13                             Sem comorbidades    10      10,20"
      ]
     },
     "execution_count": 18,
     "metadata": {},
     "output_type": "execute_result"
    }
   ],
   "source": [
    "df_comorbidades"
   ]
  },
  {
   "cell_type": "code",
   "execution_count": 19,
   "metadata": {},
   "outputs": [
    {
     "data": {
      "text/plain": [
       "<BarContainer object of 14 artists>"
      ]
     },
     "execution_count": 19,
     "metadata": {},
     "output_type": "execute_result"
    },
    {
     "data": {
      "image/png": "[encoded data removed]",
      "text/plain": [
       "<Figure size 432x288 with 1 Axes>"
      ]
     },
     "metadata": {
      "needs_background": "light"
     },
     "output_type": "display_data"
    }
   ],
   "source": [
    "plt.bar(df_comorbidades.Morbidades, df_comorbidades.Qtde)"
   ]
  }
 ],
 "metadata": {
  "colab": {
   "name": "DADOS_OFICIAIS_SESAPI.ipynb",
   "provenance": []
  },
  "kernelspec": {
   "display_name": "Python 3",
   "language": "python",
   "name": "python3"
  },
  "language_info": {
   "codemirror_mode": {
    "name": "ipython",
    "version": 3
   },
   "file_extension": ".py",
   "mimetype": "text/x-python",
   "name": "python",
   "nbconvert_exporter": "python",
   "pygments_lexer": "ipython3",
   "version": "3.6.9"
  }
 },
 "nbformat": 4,
 "nbformat_minor": 1
}
