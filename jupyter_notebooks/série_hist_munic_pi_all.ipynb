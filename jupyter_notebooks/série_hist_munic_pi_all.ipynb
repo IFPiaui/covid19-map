{
 "cells": [
  {
   "cell_type": "markdown",
   "metadata": {
    "colab_type": "text",
    "id": "wEb6nwQwv8yq"
   },
   "source": [
    "**SCRIPT PARA GERAR UM CSV COM OS DADOS DE SÉRIE HISTÓRICA DE TODOS OS MUNICÍPIOS DO PIAUÍ**\n",
    "##### Fonte de dados: https://brasil.io/api/dataset/covid19/caso/data/ #####\n",
    "Francisco Alysson"
   ]
  },
  {
   "cell_type": "code",
   "execution_count": 0,
   "metadata": {
    "colab": {},
    "colab_type": "code",
    "id": "YkN3JFuGH556"
   },
   "outputs": [],
   "source": [
    "import requests\n",
    "import json \n",
    "import pandas as pd\n",
    "from google.colab import files"
   ]
  },
  {
   "cell_type": "markdown",
   "metadata": {
    "colab_type": "text",
    "id": "6uuQNx7uu1Q1"
   },
   "source": [
    "REQUISIÇÃO PARA API APLICANDO OS FILTROS NECESSÁRIOS"
   ]
  },
  {
   "cell_type": "code",
   "execution_count": 0,
   "metadata": {
    "colab": {},
    "colab_type": "code",
    "id": "Z_iOSkNLJCn2"
   },
   "outputs": [],
   "source": [
    "resp = requests.get('https://brasil.io/api/dataset/covid19/caso/data/?format=json&state=PI&place_type=city')\n",
    "resp_json = json.loads(resp.text)\n",
    "resp_json"
   ]
  },
  {
   "cell_type": "markdown",
   "metadata": {
    "colab_type": "text",
    "id": "fnX9PxiIvMMG"
   },
   "source": [
    "CONVERSÃO DO JSON OBTIDO EM DATAFRAME"
   ]
  },
  {
   "cell_type": "code",
   "execution_count": 0,
   "metadata": {
    "colab": {},
    "colab_type": "code",
    "id": "iVPxIzS0hx0F"
   },
   "outputs": [],
   "source": [
    "resultados = resp_json['results']\n",
    "df_serie_pi = pd.DataFrame(resultados)"
   ]
  },
  {
   "cell_type": "markdown",
   "metadata": {
    "colab_type": "text",
    "id": "O7W_NWLsvVlC"
   },
   "source": [
    "DELIMITAR O DATAFRAME A CONTER SOMENTE AS COLUNAS DESEJADAS"
   ]
  },
  {
   "cell_type": "code",
   "execution_count": 39,
   "metadata": {
    "colab": {
     "base_uri": "https://localhost:8080/",
     "height": 406
    },
    "colab_type": "code",
    "id": "51_uW0fXpav2",
    "outputId": "138a13d5-2c4c-4742-cd12-32e1ad2b1631"
   },
   "outputs": [
    {
     "data": {
      "text/html": [
       "<div>\n",
       "<style scoped>\n",
       "    .dataframe tbody tr th:only-of-type {\n",
       "        vertical-align: middle;\n",
       "    }\n",
       "\n",
       "    .dataframe tbody tr th {\n",
       "        vertical-align: top;\n",
       "    }\n",
       "\n",
       "    .dataframe thead th {\n",
       "        text-align: right;\n",
       "    }\n",
       "</style>\n",
       "<table border=\"1\" class=\"dataframe\">\n",
       "  <thead>\n",
       "    <tr style=\"text-align: right;\">\n",
       "      <th></th>\n",
       "      <th>city_ibge_code</th>\n",
       "      <th>city</th>\n",
       "      <th>date</th>\n",
       "      <th>confirmed</th>\n",
       "      <th>deaths</th>\n",
       "    </tr>\n",
       "  </thead>\n",
       "  <tbody>\n",
       "    <tr>\n",
       "      <th>0</th>\n",
       "      <td>2200202</td>\n",
       "      <td>Água Branca</td>\n",
       "      <td>2020-05-07</td>\n",
       "      <td>13</td>\n",
       "      <td>0</td>\n",
       "    </tr>\n",
       "    <tr>\n",
       "      <th>1</th>\n",
       "      <td>2200400</td>\n",
       "      <td>Altos</td>\n",
       "      <td>2020-05-07</td>\n",
       "      <td>9</td>\n",
       "      <td>0</td>\n",
       "    </tr>\n",
       "    <tr>\n",
       "      <th>2</th>\n",
       "      <td>2200459</td>\n",
       "      <td>Alvorada do Gurguéia</td>\n",
       "      <td>2020-05-07</td>\n",
       "      <td>1</td>\n",
       "      <td>0</td>\n",
       "    </tr>\n",
       "    <tr>\n",
       "      <th>3</th>\n",
       "      <td>2200509</td>\n",
       "      <td>Amarante</td>\n",
       "      <td>2020-05-07</td>\n",
       "      <td>3</td>\n",
       "      <td>0</td>\n",
       "    </tr>\n",
       "    <tr>\n",
       "      <th>4</th>\n",
       "      <td>2200608</td>\n",
       "      <td>Angical do Piauí</td>\n",
       "      <td>2020-05-07</td>\n",
       "      <td>3</td>\n",
       "      <td>0</td>\n",
       "    </tr>\n",
       "    <tr>\n",
       "      <th>...</th>\n",
       "      <td>...</td>\n",
       "      <td>...</td>\n",
       "      <td>...</td>\n",
       "      <td>...</td>\n",
       "      <td>...</td>\n",
       "    </tr>\n",
       "    <tr>\n",
       "      <th>995</th>\n",
       "      <td>2202208</td>\n",
       "      <td>Campo Maior</td>\n",
       "      <td>2020-04-20</td>\n",
       "      <td>3</td>\n",
       "      <td>0</td>\n",
       "    </tr>\n",
       "    <tr>\n",
       "      <th>996</th>\n",
       "      <td>2202505</td>\n",
       "      <td>Caracol</td>\n",
       "      <td>2020-04-20</td>\n",
       "      <td>1</td>\n",
       "      <td>0</td>\n",
       "    </tr>\n",
       "    <tr>\n",
       "      <th>997</th>\n",
       "      <td>2202752</td>\n",
       "      <td>Colônia do Gurguéia</td>\n",
       "      <td>2020-04-20</td>\n",
       "      <td>1</td>\n",
       "      <td>0</td>\n",
       "    </tr>\n",
       "    <tr>\n",
       "      <th>998</th>\n",
       "      <td>2203305</td>\n",
       "      <td>Demerval Lobão</td>\n",
       "      <td>2020-04-20</td>\n",
       "      <td>1</td>\n",
       "      <td>0</td>\n",
       "    </tr>\n",
       "    <tr>\n",
       "      <th>999</th>\n",
       "      <td>2203701</td>\n",
       "      <td>Esperantina</td>\n",
       "      <td>2020-04-20</td>\n",
       "      <td>3</td>\n",
       "      <td>0</td>\n",
       "    </tr>\n",
       "  </tbody>\n",
       "</table>\n",
       "<p>1000 rows × 5 columns</p>\n",
       "</div>"
      ],
      "text/plain": [
       "    city_ibge_code                  city        date  confirmed  deaths\n",
       "0          2200202           Água Branca  2020-05-07         13       0\n",
       "1          2200400                 Altos  2020-05-07          9       0\n",
       "2          2200459  Alvorada do Gurguéia  2020-05-07          1       0\n",
       "3          2200509              Amarante  2020-05-07          3       0\n",
       "4          2200608      Angical do Piauí  2020-05-07          3       0\n",
       "..             ...                   ...         ...        ...     ...\n",
       "995        2202208           Campo Maior  2020-04-20          3       0\n",
       "996        2202505               Caracol  2020-04-20          1       0\n",
       "997        2202752   Colônia do Gurguéia  2020-04-20          1       0\n",
       "998        2203305        Demerval Lobão  2020-04-20          1       0\n",
       "999        2203701           Esperantina  2020-04-20          3       0\n",
       "\n",
       "[1000 rows x 5 columns]"
      ]
     },
     "execution_count": 39,
     "metadata": {
      "tags": []
     },
     "output_type": "execute_result"
    }
   ],
   "source": [
    "df_serie_pi = df_serie_pi[[\"city_ibge_code\",\"city\",\"date\",\"confirmed\",\"deaths\"]]\n",
    "df_serie_pi"
   ]
  },
  {
   "cell_type": "markdown",
   "metadata": {
    "colab_type": "text",
    "id": "U2fD4X7Cvuqm"
   },
   "source": [
    "RENOMEAR AS COLUNAS"
   ]
  },
  {
   "cell_type": "code",
   "execution_count": 40,
   "metadata": {
    "colab": {
     "base_uri": "https://localhost:8080/",
     "height": 406
    },
    "colab_type": "code",
    "id": "oNjnSbyvsbHb",
    "outputId": "8b0fc037-fefa-478e-e1c7-e47b4d7759f4"
   },
   "outputs": [
    {
     "data": {
      "text/html": [
       "<div>\n",
       "<style scoped>\n",
       "    .dataframe tbody tr th:only-of-type {\n",
       "        vertical-align: middle;\n",
       "    }\n",
       "\n",
       "    .dataframe tbody tr th {\n",
       "        vertical-align: top;\n",
       "    }\n",
       "\n",
       "    .dataframe thead th {\n",
       "        text-align: right;\n",
       "    }\n",
       "</style>\n",
       "<table border=\"1\" class=\"dataframe\">\n",
       "  <thead>\n",
       "    <tr style=\"text-align: right;\">\n",
       "      <th></th>\n",
       "      <th>idIBGE</th>\n",
       "      <th>cidade</th>\n",
       "      <th>date</th>\n",
       "      <th>confirmados</th>\n",
       "      <th>obitos</th>\n",
       "    </tr>\n",
       "  </thead>\n",
       "  <tbody>\n",
       "    <tr>\n",
       "      <th>0</th>\n",
       "      <td>2200202</td>\n",
       "      <td>Água Branca</td>\n",
       "      <td>2020-05-07</td>\n",
       "      <td>13</td>\n",
       "      <td>0</td>\n",
       "    </tr>\n",
       "    <tr>\n",
       "      <th>1</th>\n",
       "      <td>2200400</td>\n",
       "      <td>Altos</td>\n",
       "      <td>2020-05-07</td>\n",
       "      <td>9</td>\n",
       "      <td>0</td>\n",
       "    </tr>\n",
       "    <tr>\n",
       "      <th>2</th>\n",
       "      <td>2200459</td>\n",
       "      <td>Alvorada do Gurguéia</td>\n",
       "      <td>2020-05-07</td>\n",
       "      <td>1</td>\n",
       "      <td>0</td>\n",
       "    </tr>\n",
       "    <tr>\n",
       "      <th>3</th>\n",
       "      <td>2200509</td>\n",
       "      <td>Amarante</td>\n",
       "      <td>2020-05-07</td>\n",
       "      <td>3</td>\n",
       "      <td>0</td>\n",
       "    </tr>\n",
       "    <tr>\n",
       "      <th>4</th>\n",
       "      <td>2200608</td>\n",
       "      <td>Angical do Piauí</td>\n",
       "      <td>2020-05-07</td>\n",
       "      <td>3</td>\n",
       "      <td>0</td>\n",
       "    </tr>\n",
       "    <tr>\n",
       "      <th>...</th>\n",
       "      <td>...</td>\n",
       "      <td>...</td>\n",
       "      <td>...</td>\n",
       "      <td>...</td>\n",
       "      <td>...</td>\n",
       "    </tr>\n",
       "    <tr>\n",
       "      <th>995</th>\n",
       "      <td>2202208</td>\n",
       "      <td>Campo Maior</td>\n",
       "      <td>2020-04-20</td>\n",
       "      <td>3</td>\n",
       "      <td>0</td>\n",
       "    </tr>\n",
       "    <tr>\n",
       "      <th>996</th>\n",
       "      <td>2202505</td>\n",
       "      <td>Caracol</td>\n",
       "      <td>2020-04-20</td>\n",
       "      <td>1</td>\n",
       "      <td>0</td>\n",
       "    </tr>\n",
       "    <tr>\n",
       "      <th>997</th>\n",
       "      <td>2202752</td>\n",
       "      <td>Colônia do Gurguéia</td>\n",
       "      <td>2020-04-20</td>\n",
       "      <td>1</td>\n",
       "      <td>0</td>\n",
       "    </tr>\n",
       "    <tr>\n",
       "      <th>998</th>\n",
       "      <td>2203305</td>\n",
       "      <td>Demerval Lobão</td>\n",
       "      <td>2020-04-20</td>\n",
       "      <td>1</td>\n",
       "      <td>0</td>\n",
       "    </tr>\n",
       "    <tr>\n",
       "      <th>999</th>\n",
       "      <td>2203701</td>\n",
       "      <td>Esperantina</td>\n",
       "      <td>2020-04-20</td>\n",
       "      <td>3</td>\n",
       "      <td>0</td>\n",
       "    </tr>\n",
       "  </tbody>\n",
       "</table>\n",
       "<p>1000 rows × 5 columns</p>\n",
       "</div>"
      ],
      "text/plain": [
       "      idIBGE                cidade        date  confirmados  obitos\n",
       "0    2200202           Água Branca  2020-05-07           13       0\n",
       "1    2200400                 Altos  2020-05-07            9       0\n",
       "2    2200459  Alvorada do Gurguéia  2020-05-07            1       0\n",
       "3    2200509              Amarante  2020-05-07            3       0\n",
       "4    2200608      Angical do Piauí  2020-05-07            3       0\n",
       "..       ...                   ...         ...          ...     ...\n",
       "995  2202208           Campo Maior  2020-04-20            3       0\n",
       "996  2202505               Caracol  2020-04-20            1       0\n",
       "997  2202752   Colônia do Gurguéia  2020-04-20            1       0\n",
       "998  2203305        Demerval Lobão  2020-04-20            1       0\n",
       "999  2203701           Esperantina  2020-04-20            3       0\n",
       "\n",
       "[1000 rows x 5 columns]"
      ]
     },
     "execution_count": 40,
     "metadata": {
      "tags": []
     },
     "output_type": "execute_result"
    }
   ],
   "source": [
    "df_serie_pi.rename(columns={'city_ibge_code':'idIBGE','city':'cidade','confirmed':'confirmados','deaths':'obitos'}, inplace=True)\n",
    "df_serie_pi"
   ]
  },
  {
   "cell_type": "markdown",
   "metadata": {
    "colab_type": "text",
    "id": "07bLPAi5v1Av"
   },
   "source": [
    "GERAR O CSV E BAIXÁ-LO"
   ]
  },
  {
   "cell_type": "code",
   "execution_count": 0,
   "metadata": {
    "colab": {},
    "colab_type": "code",
    "id": "fQChvvLhtKlC"
   },
   "outputs": [],
   "source": [
    "df_serie_pi.to_csv('serie_hist_munic_pi.csv')\n",
    "files.download('serie_hist_munic_pi.csv')"
   ]
  }
 ],
 "metadata": {
  "colab": {
   "name": "SÉRIE_HIST_MUNIC_PI.ipynb",
   "provenance": []
  },
  "kernelspec": {
   "display_name": "Python 3",
   "language": "python",
   "name": "python3"
  },
  "language_info": {
   "codemirror_mode": {
    "name": "ipython",
    "version": 3
   },
   "file_extension": ".py",
   "mimetype": "text/x-python",
   "name": "python",
   "nbconvert_exporter": "python",
   "pygments_lexer": "ipython3",
   "version": "3.7.6"
  }
 },
 "nbformat": 4,
 "nbformat_minor": 1
}
