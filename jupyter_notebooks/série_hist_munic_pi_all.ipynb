{
  "nbformat": 4,
  "nbformat_minor": 0,
  "metadata": {
    "colab": {
      "name": "SÉRIE_HIST_MUNIC_PI.ipynb",
      "provenance": []
    },
    "kernelspec": {
      "name": "python3",
      "display_name": "Python 3"
    }
  },
  "cells": [
    {
      "cell_type": "markdown",
      "metadata": {
        "id": "wEb6nwQwv8yq",
        "colab_type": "text"
      },
      "source": [
        "**SCRIPT PARA GERAR UM CSV COM OS DADOS DE SÉRIE HISTÓRICA DE TODOS OS MUNICÍPIOS DO PIAUÍ**\n",
        "##### Fonte de dados: https://brasil.io/api/dataset/covid19/caso/data/ #####\n",
        "Francisco Alysson"
      ]
    },
    {
      "cell_type": "code",
      "metadata": {
        "id": "YkN3JFuGH556",
        "colab_type": "code",
        "colab": {}
      },
      "source": [
        "import requests\n",
        "import json \n",
        "import pandas as pd\n",
        "from google.colab import files"
      ],
      "execution_count": 0,
      "outputs": []
    },
    {
      "cell_type": "markdown",
      "metadata": {
        "id": "6uuQNx7uu1Q1",
        "colab_type": "text"
      },
      "source": [
        "REQUISIÇÃO PARA API APLICANDO OS FILTROS NECESSÁRIOS"
      ]
    },
    {
      "cell_type": "code",
      "metadata": {
        "id": "Z_iOSkNLJCn2",
        "colab_type": "code",
        "colab": {}
      },
      "source": [
        "resp = requests.get('https://brasil.io/api/dataset/covid19/caso/data/?format=json&state=PI&place_type=city')\n",
        "resp_json = json.loads(resp.text)\n",
        "resp_json"
      ],
      "execution_count": 0,
      "outputs": []
    },
    {
      "cell_type": "markdown",
      "metadata": {
        "id": "fnX9PxiIvMMG",
        "colab_type": "text"
      },
      "source": [
        "CONVERSÃO DO JSON OBTIDO EM DATAFRAME"
      ]
    },
    {
      "cell_type": "code",
      "metadata": {
        "id": "iVPxIzS0hx0F",
        "colab_type": "code",
        "colab": {}
      },
      "source": [
        "resultados = resp_json['results']\n",
        "df_serie_pi = pd.DataFrame(resultados)"
      ],
      "execution_count": 0,
      "outputs": []
    },
    {
      "cell_type": "markdown",
      "metadata": {
        "id": "O7W_NWLsvVlC",
        "colab_type": "text"
      },
      "source": [
        "DELIMITAR O DATAFRAME A CONTER SOMENTE AS COLUNAS DESEJADAS"
      ]
    },
    {
      "cell_type": "code",
      "metadata": {
        "id": "51_uW0fXpav2",
        "colab_type": "code",
        "colab": {
          "base_uri": "https://localhost:8080/",
          "height": 406
        },
        "outputId": "138a13d5-2c4c-4742-cd12-32e1ad2b1631"
      },
      "source": [
        "df_serie_pi = df_serie_pi[[\"city_ibge_code\",\"city\",\"date\",\"confirmed\",\"deaths\"]]\n",
        "df_serie_pi"
      ],
      "execution_count": 39,
      "outputs": [
        {
          "output_type": "execute_result",
          "data": {
            "text/html": [
              "<div>\n",
              "<style scoped>\n",
              "    .dataframe tbody tr th:only-of-type {\n",
              "        vertical-align: middle;\n",
              "    }\n",
              "\n",
              "    .dataframe tbody tr th {\n",
              "        vertical-align: top;\n",
              "    }\n",
              "\n",
              "    .dataframe thead th {\n",
              "        text-align: right;\n",
              "    }\n",
              "</style>\n",
              "<table border=\"1\" class=\"dataframe\">\n",
              "  <thead>\n",
              "    <tr style=\"text-align: right;\">\n",
              "      <th></th>\n",
              "      <th>city_ibge_code</th>\n",
              "      <th>city</th>\n",
              "      <th>date</th>\n",
              "      <th>confirmed</th>\n",
              "      <th>deaths</th>\n",
              "    </tr>\n",
              "  </thead>\n",
              "  <tbody>\n",
              "    <tr>\n",
              "      <th>0</th>\n",
              "      <td>2200202</td>\n",
              "      <td>Água Branca</td>\n",
              "      <td>2020-05-07</td>\n",
              "      <td>13</td>\n",
              "      <td>0</td>\n",
              "    </tr>\n",
              "    <tr>\n",
              "      <th>1</th>\n",
              "      <td>2200400</td>\n",
              "      <td>Altos</td>\n",
              "      <td>2020-05-07</td>\n",
              "      <td>9</td>\n",
              "      <td>0</td>\n",
              "    </tr>\n",
              "    <tr>\n",
              "      <th>2</th>\n",
              "      <td>2200459</td>\n",
              "      <td>Alvorada do Gurguéia</td>\n",
              "      <td>2020-05-07</td>\n",
              "      <td>1</td>\n",
              "      <td>0</td>\n",
              "    </tr>\n",
              "    <tr>\n",
              "      <th>3</th>\n",
              "      <td>2200509</td>\n",
              "      <td>Amarante</td>\n",
              "      <td>2020-05-07</td>\n",
              "      <td>3</td>\n",
              "      <td>0</td>\n",
              "    </tr>\n",
              "    <tr>\n",
              "      <th>4</th>\n",
              "      <td>2200608</td>\n",
              "      <td>Angical do Piauí</td>\n",
              "      <td>2020-05-07</td>\n",
              "      <td>3</td>\n",
              "      <td>0</td>\n",
              "    </tr>\n",
              "    <tr>\n",
              "      <th>...</th>\n",
              "      <td>...</td>\n",
              "      <td>...</td>\n",
              "      <td>...</td>\n",
              "      <td>...</td>\n",
              "      <td>...</td>\n",
              "    </tr>\n",
              "    <tr>\n",
              "      <th>995</th>\n",
              "      <td>2202208</td>\n",
              "      <td>Campo Maior</td>\n",
              "      <td>2020-04-20</td>\n",
              "      <td>3</td>\n",
              "      <td>0</td>\n",
              "    </tr>\n",
              "    <tr>\n",
              "      <th>996</th>\n",
              "      <td>2202505</td>\n",
              "      <td>Caracol</td>\n",
              "      <td>2020-04-20</td>\n",
              "      <td>1</td>\n",
              "      <td>0</td>\n",
              "    </tr>\n",
              "    <tr>\n",
              "      <th>997</th>\n",
              "      <td>2202752</td>\n",
              "      <td>Colônia do Gurguéia</td>\n",
              "      <td>2020-04-20</td>\n",
              "      <td>1</td>\n",
              "      <td>0</td>\n",
              "    </tr>\n",
              "    <tr>\n",
              "      <th>998</th>\n",
              "      <td>2203305</td>\n",
              "      <td>Demerval Lobão</td>\n",
              "      <td>2020-04-20</td>\n",
              "      <td>1</td>\n",
              "      <td>0</td>\n",
              "    </tr>\n",
              "    <tr>\n",
              "      <th>999</th>\n",
              "      <td>2203701</td>\n",
              "      <td>Esperantina</td>\n",
              "      <td>2020-04-20</td>\n",
              "      <td>3</td>\n",
              "      <td>0</td>\n",
              "    </tr>\n",
              "  </tbody>\n",
              "</table>\n",
              "<p>1000 rows × 5 columns</p>\n",
              "</div>"
            ],
            "text/plain": [
              "    city_ibge_code                  city        date  confirmed  deaths\n",
              "0          2200202           Água Branca  2020-05-07         13       0\n",
              "1          2200400                 Altos  2020-05-07          9       0\n",
              "2          2200459  Alvorada do Gurguéia  2020-05-07          1       0\n",
              "3          2200509              Amarante  2020-05-07          3       0\n",
              "4          2200608      Angical do Piauí  2020-05-07          3       0\n",
              "..             ...                   ...         ...        ...     ...\n",
              "995        2202208           Campo Maior  2020-04-20          3       0\n",
              "996        2202505               Caracol  2020-04-20          1       0\n",
              "997        2202752   Colônia do Gurguéia  2020-04-20          1       0\n",
              "998        2203305        Demerval Lobão  2020-04-20          1       0\n",
              "999        2203701           Esperantina  2020-04-20          3       0\n",
              "\n",
              "[1000 rows x 5 columns]"
            ]
          },
          "metadata": {
            "tags": []
          },
          "execution_count": 39
        }
      ]
    },
    {
      "cell_type": "markdown",
      "metadata": {
        "id": "U2fD4X7Cvuqm",
        "colab_type": "text"
      },
      "source": [
        "RENOMEAR AS COLUNAS"
      ]
    },
    {
      "cell_type": "code",
      "metadata": {
        "id": "oNjnSbyvsbHb",
        "colab_type": "code",
        "colab": {
          "base_uri": "https://localhost:8080/",
          "height": 406
        },
        "outputId": "8b0fc037-fefa-478e-e1c7-e47b4d7759f4"
      },
      "source": [
        "df_serie_pi.rename(columns={'city_ibge_code':'idIBGE','city':'cidade','confirmed':'confirmados','deaths':'obitos'}, inplace=True)\n",
        "df_serie_pi"
      ],
      "execution_count": 40,
      "outputs": [
        {
          "output_type": "execute_result",
          "data": {
            "text/html": [
              "<div>\n",
              "<style scoped>\n",
              "    .dataframe tbody tr th:only-of-type {\n",
              "        vertical-align: middle;\n",
              "    }\n",
              "\n",
              "    .dataframe tbody tr th {\n",
              "        vertical-align: top;\n",
              "    }\n",
              "\n",
              "    .dataframe thead th {\n",
              "        text-align: right;\n",
              "    }\n",
              "</style>\n",
              "<table border=\"1\" class=\"dataframe\">\n",
              "  <thead>\n",
              "    <tr style=\"text-align: right;\">\n",
              "      <th></th>\n",
              "      <th>idIBGE</th>\n",
              "      <th>cidade</th>\n",
              "      <th>date</th>\n",
              "      <th>confirmados</th>\n",
              "      <th>obitos</th>\n",
              "    </tr>\n",
              "  </thead>\n",
              "  <tbody>\n",
              "    <tr>\n",
              "      <th>0</th>\n",
              "      <td>2200202</td>\n",
              "      <td>Água Branca</td>\n",
              "      <td>2020-05-07</td>\n",
              "      <td>13</td>\n",
              "      <td>0</td>\n",
              "    </tr>\n",
              "    <tr>\n",
              "      <th>1</th>\n",
              "      <td>2200400</td>\n",
              "      <td>Altos</td>\n",
              "      <td>2020-05-07</td>\n",
              "      <td>9</td>\n",
              "      <td>0</td>\n",
              "    </tr>\n",
              "    <tr>\n",
              "      <th>2</th>\n",
              "      <td>2200459</td>\n",
              "      <td>Alvorada do Gurguéia</td>\n",
              "      <td>2020-05-07</td>\n",
              "      <td>1</td>\n",
              "      <td>0</td>\n",
              "    </tr>\n",
              "    <tr>\n",
              "      <th>3</th>\n",
              "      <td>2200509</td>\n",
              "      <td>Amarante</td>\n",
              "      <td>2020-05-07</td>\n",
              "      <td>3</td>\n",
              "      <td>0</td>\n",
              "    </tr>\n",
              "    <tr>\n",
              "      <th>4</th>\n",
              "      <td>2200608</td>\n",
              "      <td>Angical do Piauí</td>\n",
              "      <td>2020-05-07</td>\n",
              "      <td>3</td>\n",
              "      <td>0</td>\n",
              "    </tr>\n",
              "    <tr>\n",
              "      <th>...</th>\n",
              "      <td>...</td>\n",
              "      <td>...</td>\n",
              "      <td>...</td>\n",
              "      <td>...</td>\n",
              "      <td>...</td>\n",
              "    </tr>\n",
              "    <tr>\n",
              "      <th>995</th>\n",
              "      <td>2202208</td>\n",
              "      <td>Campo Maior</td>\n",
              "      <td>2020-04-20</td>\n",
              "      <td>3</td>\n",
              "      <td>0</td>\n",
              "    </tr>\n",
              "    <tr>\n",
              "      <th>996</th>\n",
              "      <td>2202505</td>\n",
              "      <td>Caracol</td>\n",
              "      <td>2020-04-20</td>\n",
              "      <td>1</td>\n",
              "      <td>0</td>\n",
              "    </tr>\n",
              "    <tr>\n",
              "      <th>997</th>\n",
              "      <td>2202752</td>\n",
              "      <td>Colônia do Gurguéia</td>\n",
              "      <td>2020-04-20</td>\n",
              "      <td>1</td>\n",
              "      <td>0</td>\n",
              "    </tr>\n",
              "    <tr>\n",
              "      <th>998</th>\n",
              "      <td>2203305</td>\n",
              "      <td>Demerval Lobão</td>\n",
              "      <td>2020-04-20</td>\n",
              "      <td>1</td>\n",
              "      <td>0</td>\n",
              "    </tr>\n",
              "    <tr>\n",
              "      <th>999</th>\n",
              "      <td>2203701</td>\n",
              "      <td>Esperantina</td>\n",
              "      <td>2020-04-20</td>\n",
              "      <td>3</td>\n",
              "      <td>0</td>\n",
              "    </tr>\n",
              "  </tbody>\n",
              "</table>\n",
              "<p>1000 rows × 5 columns</p>\n",
              "</div>"
            ],
            "text/plain": [
              "      idIBGE                cidade        date  confirmados  obitos\n",
              "0    2200202           Água Branca  2020-05-07           13       0\n",
              "1    2200400                 Altos  2020-05-07            9       0\n",
              "2    2200459  Alvorada do Gurguéia  2020-05-07            1       0\n",
              "3    2200509              Amarante  2020-05-07            3       0\n",
              "4    2200608      Angical do Piauí  2020-05-07            3       0\n",
              "..       ...                   ...         ...          ...     ...\n",
              "995  2202208           Campo Maior  2020-04-20            3       0\n",
              "996  2202505               Caracol  2020-04-20            1       0\n",
              "997  2202752   Colônia do Gurguéia  2020-04-20            1       0\n",
              "998  2203305        Demerval Lobão  2020-04-20            1       0\n",
              "999  2203701           Esperantina  2020-04-20            3       0\n",
              "\n",
              "[1000 rows x 5 columns]"
            ]
          },
          "metadata": {
            "tags": []
          },
          "execution_count": 40
        }
      ]
    },
    {
      "cell_type": "markdown",
      "metadata": {
        "id": "07bLPAi5v1Av",
        "colab_type": "text"
      },
      "source": [
        "GERAR O CSV E BAIXÁ-LO"
      ]
    },
    {
      "cell_type": "code",
      "metadata": {
        "id": "fQChvvLhtKlC",
        "colab_type": "code",
        "colab": {}
      },
      "source": [
        "df_serie_pi.to_csv('serie_hist_munic_pi.csv')\n",
        "files.download('serie_hist_munic_pi.csv')"
      ],
      "execution_count": 0,
      "outputs": []
    }
  ]
}