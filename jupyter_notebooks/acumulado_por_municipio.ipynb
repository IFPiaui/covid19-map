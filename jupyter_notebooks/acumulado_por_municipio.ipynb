{
 "cells": [
  {
   "cell_type": "markdown",
   "metadata": {},
   "source": [
    "### **SCRIPT QUE GERA UM CSV A APARTIR DOS DADOS ACUMULADOS POR CIDADE NO PIAUÍ**\n",
    "\n",
    "Felipe Dantas"
   ]
  },
  {
   "cell_type": "code",
   "execution_count": 1,
   "metadata": {},
   "outputs": [],
   "source": [
    "import gspread\n",
    "import pandas as pd\n",
    "import numpy as np\n",
    "import datetime"
   ]
  },
  {
   "cell_type": "markdown",
   "metadata": {},
   "source": [
    "#### **DADOS COLETADOS DIRETAMENTO DA PLANILHA NO GOOGLE SHEET**\n",
    "##### Autenticação será exigida apenas na primeira vez"
   ]
  },
  {
   "cell_type": "code",
   "execution_count": 2,
   "metadata": {},
   "outputs": [],
   "source": [
    "gc = gspread.oauth()"
   ]
  },
  {
   "cell_type": "markdown",
   "metadata": {},
   "source": [
    "#### Carregando a planilha completa do Governo do Piauí pela seguinte url:\n",
    "<https://docs.google.com/spreadsheets/d/1b-GkDhhxJIwWcA6tk3z4eX58f-f1w2TA2f2XrI4XB1w/edit#gid=1514947706>"
   ]
  },
  {
   "cell_type": "code",
   "execution_count": 4,
   "metadata": {},
   "outputs": [],
   "source": [
    "url = 'https://docs.google.com/spreadsheets/d/1b-GkDhhxJIwWcA6tk3z4eX58f-f1w2TA2f2XrI4XB1w/edit#gid=1514947706'\n",
    "sh = gc.open_by_url(url)"
   ]
  },
  {
   "cell_type": "markdown",
   "metadata": {},
   "source": [
    "#### Lista todas as planilhas"
   ]
  },
  {
   "cell_type": "code",
   "execution_count": 62,
   "metadata": {},
   "outputs": [],
   "source": [
    "worksheet_list = sh.worksheets()"
   ]
  },
  {
   "cell_type": "code",
   "execution_count": 63,
   "metadata": {},
   "outputs": [
    {
     "name": "stdout",
     "output_type": "stream",
     "text": [
      "(0, <Worksheet 'Dt Atualiza' id:1514947706>)\n",
      "(1, <Worksheet 'Confirmados' id:1869243391>)\n",
      "(2, <Worksheet 'Descartados' id:1183637221>)\n",
      "(3, <Worksheet 'Altas Médicas' id:921393660>)\n",
      "(4, <Worksheet 'Óbitos' id:1820834527>)\n",
      "(5, <Worksheet 'TR' id:1934173117>)\n",
      "(6, <Worksheet 'Invest Laborat' id:75671645>)\n",
      "(7, <Worksheet 'Invest Lab Dia' id:889562226>)\n",
      "(8, <Worksheet 'Conf Obito Mun' id:532454257>)\n",
      "(9, <Worksheet 'Tab Apoio' id:1340447443>)\n",
      "(10, <Worksheet '%Mun Casos' id:671234104>)\n",
      "(11, <Worksheet '% Mun Obt' id:1008596386>)\n",
      "(12, <Worksheet 'Conf Sexo' id:0>)\n",
      "(13, <Worksheet 'Casos por Dia' id:181109212>)\n",
      "(14, <Worksheet 'Óbito Sexo' id:953543508>)\n",
      "(15, <Worksheet 'Conf Obt Fx Etária' id:1402178422>)\n",
      "(16, <Worksheet 'Obt MM60' id:927613120>)\n",
      "(17, <Worksheet 'Comorbidades' id:687147050>)\n",
      "(18, <Worksheet 'Mapa' id:1503162102>)\n",
      "(19, <Worksheet 'Internação' id:1700633974>)\n",
      "(20, <Worksheet 'Tx Ocup LC' id:193507430>)\n",
      "(21, <Worksheet 'Tx Ocup UTI' id:277286516>)\n",
      "(22, <Worksheet 'Tx Ocup LE' id:569015968>)\n",
      "(23, <Worksheet 'Tx Ocup LV' id:266465281>)\n",
      "(24, <Worksheet 'Internações Dia' id:1465700325>)\n",
      "(25, <Worksheet 'Virus Resp' id:705615771>)\n",
      "(26, <Worksheet 'Virus Resp Dia' id:1094129008>)\n",
      "(27, <Worksheet 'Sintomas' id:1497829879>)\n"
     ]
    }
   ],
   "source": [
    "for e in enumerate(worksheet_list):\n",
    "    print(e)"
   ]
  },
  {
   "cell_type": "markdown",
   "metadata": {},
   "source": [
    "#### SELECIONANDO WORKSHEET PELO INDICE OU PELO NOME"
   ]
  },
  {
   "cell_type": "code",
   "execution_count": 64,
   "metadata": {},
   "outputs": [],
   "source": [
    "#sh.get_worksheet(8)"
   ]
  },
  {
   "cell_type": "markdown",
   "metadata": {},
   "source": [
    "##### PLANILHA COM DATA DA ÚLTIMA ATUALIZAÇÃO DOS DADOS"
   ]
  },
  {
   "cell_type": "code",
   "execution_count": 65,
   "metadata": {},
   "outputs": [],
   "source": [
    "worksheet_last_update = sh.worksheet('Dt Atualiza')"
   ]
  },
  {
   "cell_type": "markdown",
   "metadata": {},
   "source": [
    "##### PLANILHA DE CASOS ACUMULADOS POR MUNICÍPIOS"
   ]
  },
  {
   "cell_type": "code",
   "execution_count": 66,
   "metadata": {},
   "outputs": [],
   "source": [
    "worksheet_acumulado_muni = sh.worksheet('Conf Obito Mun')"
   ]
  },
  {
   "cell_type": "markdown",
   "metadata": {},
   "source": [
    "##### OBTENDO TODOS OS VALORES DAS WORKSHEET SELECIONADOS E TRANSFORMANDO EM ARRAY."
   ]
  },
  {
   "cell_type": "markdown",
   "metadata": {},
   "source": [
    "DATA E HORA DA ÚLTIMA ATUALIZAÇÃO DOS DADOS\n",
    "\n",
    "Necessário para registrar o dia das ocorrencias."
   ]
  },
  {
   "cell_type": "code",
   "execution_count": 67,
   "metadata": {},
   "outputs": [],
   "source": [
    "last_update_arr = np.array(worksheet_last_update.get_all_values())"
   ]
  },
  {
   "cell_type": "code",
   "execution_count": 68,
   "metadata": {},
   "outputs": [],
   "source": [
    "last_update = last_update_arr[1][0].split(' ')\n",
    "del last_update[:3]\n",
    "del last_update[1]\n",
    "last_update[-1] = last_update[-1].replace('h',':')"
   ]
  },
  {
   "cell_type": "code",
   "execution_count": 69,
   "metadata": {},
   "outputs": [
    {
     "data": {
      "text/plain": [
       "['12/05/2020', '19:00']"
      ]
     },
     "execution_count": 69,
     "metadata": {},
     "output_type": "execute_result"
    }
   ],
   "source": [
    "last_update"
   ]
  },
  {
   "cell_type": "markdown",
   "metadata": {},
   "source": [
    "DADOS ACUMULADOS DE CASOS POR MUNICÍPIOS\n",
    "\n",
    "Daqui iremos extrair informações de comfirmados e óbitos por município"
   ]
  },
  {
   "cell_type": "code",
   "execution_count": 70,
   "metadata": {},
   "outputs": [],
   "source": [
    "acumulado_muni = np.array(worksheet_acumulado_muni.get_all_values())"
   ]
  },
  {
   "cell_type": "code",
   "execution_count": 71,
   "metadata": {},
   "outputs": [
    {
     "data": {
      "text/plain": [
       "array([['id', 'Município', 'Confirmados', 'Óbitos', 'Incidência',\n",
       "        'População', 'CEP'],\n",
       "       ['1', 'AGUA BRANCA', '26', '2', '14,93', '17411', '64460000'],\n",
       "       ['2', 'ALTO LONGA', '1', '0', '0,70', '14304', '64360000'],\n",
       "       ['3', 'ALTOS', '15', '0', '3,70', '40524', '64290000'],\n",
       "       ['4', 'ALVORADA DO GURGUEIA', '1', '0', '1,85', '5419',\n",
       "        '64923000'],\n",
       "       ['5', 'AMARANTE', '3', '0', '1,70', '17598', '64400000'],\n",
       "       ['6', 'ANGICAL DO PIAUI', '3', '0', '4,42', '6788', '64410000'],\n",
       "       ['7', 'ANISIO DE ABREU', '9', '0', '9,11', '9880', '64780000'],\n",
       "       ['8', 'AROAZES', '1', '0', '1,71', '5835', '64310000'],\n",
       "       ['9', 'BAIXA GRANDE DO RIBEIRO', '5', '1', '4,32', '11586',\n",
       "        '64868000']], dtype='<U26')"
      ]
     },
     "execution_count": 71,
     "metadata": {},
     "output_type": "execute_result"
    }
   ],
   "source": [
    "acumulado_muni[:10]"
   ]
  },
  {
   "cell_type": "markdown",
   "metadata": {},
   "source": [
    "#### TRANSFORMANDO OS ARRAYS PARA DATAFRAME PANDAS"
   ]
  },
  {
   "cell_type": "markdown",
   "metadata": {},
   "source": [
    "DATAFRAME DA ULTIMA ATUALIZAÇÃO"
   ]
  },
  {
   "cell_type": "code",
   "execution_count": 72,
   "metadata": {},
   "outputs": [],
   "source": [
    "df_last_update = pd.DataFrame(last_update).T"
   ]
  },
  {
   "cell_type": "code",
   "execution_count": 73,
   "metadata": {},
   "outputs": [],
   "source": [
    "df_last_update.columns = ['data', 'hora']"
   ]
  },
  {
   "cell_type": "code",
   "execution_count": 74,
   "metadata": {},
   "outputs": [],
   "source": [
    "df_last_update['data_ult_atualizacao'] = pd.to_datetime(df_last_update['data'] + ' ' + df_last_update['hora'], format=\"%d/%m/%Y %H:%M\")"
   ]
  },
  {
   "cell_type": "code",
   "execution_count": 75,
   "metadata": {},
   "outputs": [
    {
     "data": {
      "text/html": [
       "<div>\n",
       "<style scoped>\n",
       "    .dataframe tbody tr th:only-of-type {\n",
       "        vertical-align: middle;\n",
       "    }\n",
       "\n",
       "    .dataframe tbody tr th {\n",
       "        vertical-align: top;\n",
       "    }\n",
       "\n",
       "    .dataframe thead th {\n",
       "        text-align: right;\n",
       "    }\n",
       "</style>\n",
       "<table border=\"1\" class=\"dataframe\">\n",
       "  <thead>\n",
       "    <tr style=\"text-align: right;\">\n",
       "      <th></th>\n",
       "      <th>data</th>\n",
       "      <th>hora</th>\n",
       "      <th>data_ult_atualizacao</th>\n",
       "    </tr>\n",
       "  </thead>\n",
       "  <tbody>\n",
       "    <tr>\n",
       "      <th>0</th>\n",
       "      <td>12/05/2020</td>\n",
       "      <td>19:00</td>\n",
       "      <td>2020-05-12 19:00:00</td>\n",
       "    </tr>\n",
       "  </tbody>\n",
       "</table>\n",
       "</div>"
      ],
      "text/plain": [
       "         data   hora data_ult_atualizacao\n",
       "0  12/05/2020  19:00  2020-05-12 19:00:00"
      ]
     },
     "execution_count": 75,
     "metadata": {},
     "output_type": "execute_result"
    }
   ],
   "source": [
    "df_last_update"
   ]
  },
  {
   "cell_type": "markdown",
   "metadata": {},
   "source": [
    "DATAFRAME DE DADOS ACUMULADOS POR MUNICÍPIOS"
   ]
  },
  {
   "cell_type": "code",
   "execution_count": 76,
   "metadata": {},
   "outputs": [],
   "source": [
    "df_acumulado_muni = pd.DataFrame(acumulado_muni[1:], columns=acumulado_muni[0])"
   ]
  },
  {
   "cell_type": "code",
   "execution_count": 77,
   "metadata": {},
   "outputs": [
    {
     "data": {
      "text/html": [
       "<div>\n",
       "<style scoped>\n",
       "    .dataframe tbody tr th:only-of-type {\n",
       "        vertical-align: middle;\n",
       "    }\n",
       "\n",
       "    .dataframe tbody tr th {\n",
       "        vertical-align: top;\n",
       "    }\n",
       "\n",
       "    .dataframe thead th {\n",
       "        text-align: right;\n",
       "    }\n",
       "</style>\n",
       "<table border=\"1\" class=\"dataframe\">\n",
       "  <thead>\n",
       "    <tr style=\"text-align: right;\">\n",
       "      <th></th>\n",
       "      <th>id</th>\n",
       "      <th>Município</th>\n",
       "      <th>Confirmados</th>\n",
       "      <th>Óbitos</th>\n",
       "      <th>Incidência</th>\n",
       "      <th>População</th>\n",
       "      <th>CEP</th>\n",
       "    </tr>\n",
       "  </thead>\n",
       "  <tbody>\n",
       "    <tr>\n",
       "      <th>88</th>\n",
       "      <td>89</td>\n",
       "      <td>VALENCA DO PIAUI</td>\n",
       "      <td>1</td>\n",
       "      <td>1</td>\n",
       "      <td>0,48</td>\n",
       "      <td>20918</td>\n",
       "      <td>64300000</td>\n",
       "    </tr>\n",
       "    <tr>\n",
       "      <th>89</th>\n",
       "      <td>90</td>\n",
       "      <td>VARZEA GRANDE</td>\n",
       "      <td>1</td>\n",
       "      <td>0</td>\n",
       "      <td>2,28</td>\n",
       "      <td>4391</td>\n",
       "      <td>64525000</td>\n",
       "    </tr>\n",
       "    <tr>\n",
       "      <th>90</th>\n",
       "      <td>91</td>\n",
       "      <td>VERA MENDES</td>\n",
       "      <td>2</td>\n",
       "      <td>0</td>\n",
       "      <td>6,50</td>\n",
       "      <td>3077</td>\n",
       "      <td>64568000</td>\n",
       "    </tr>\n",
       "    <tr>\n",
       "      <th>91</th>\n",
       "      <td>92</td>\n",
       "      <td>VILA NOVA DO PIAUI</td>\n",
       "      <td>2</td>\n",
       "      <td>0</td>\n",
       "      <td>6,73</td>\n",
       "      <td>2971</td>\n",
       "      <td>64688000</td>\n",
       "    </tr>\n",
       "    <tr>\n",
       "      <th>92</th>\n",
       "      <td></td>\n",
       "      <td>PIAUÍ</td>\n",
       "      <td>1612</td>\n",
       "      <td>57</td>\n",
       "      <td>49,25</td>\n",
       "      <td>3273227</td>\n",
       "      <td></td>\n",
       "    </tr>\n",
       "  </tbody>\n",
       "</table>\n",
       "</div>"
      ],
      "text/plain": [
       "    id           Município Confirmados Óbitos Incidência População       CEP\n",
       "88  89    VALENCA DO PIAUI           1      1       0,48     20918  64300000\n",
       "89  90       VARZEA GRANDE           1      0       2,28      4391  64525000\n",
       "90  91         VERA MENDES           2      0       6,50      3077  64568000\n",
       "91  92  VILA NOVA DO PIAUI           2      0       6,73      2971  64688000\n",
       "92                   PIAUÍ        1612     57      49,25   3273227          "
      ]
     },
     "execution_count": 77,
     "metadata": {},
     "output_type": "execute_result"
    }
   ],
   "source": [
    "df_acumulado_muni.tail()"
   ]
  },
  {
   "cell_type": "markdown",
   "metadata": {},
   "source": [
    "Excluindo a última linha, pois esta última registra o somatório total de casos"
   ]
  },
  {
   "cell_type": "code",
   "execution_count": 78,
   "metadata": {},
   "outputs": [],
   "source": [
    "df_acumulado_muni.drop(index=df_acumulado_muni.last_valid_index(), inplace=True)"
   ]
  },
  {
   "cell_type": "markdown",
   "metadata": {},
   "source": [
    "CONVERTENDO OS TIPOS DE DADOS DO DATAFRAME DE DADOS ACUMULADOS POR MUNICÍPIOS"
   ]
  },
  {
   "cell_type": "code",
   "execution_count": 79,
   "metadata": {},
   "outputs": [],
   "source": [
    "df_acumulado_muni['Município'] = df_acumulado_muni['Município'].astype('string')"
   ]
  },
  {
   "cell_type": "code",
   "execution_count": 80,
   "metadata": {},
   "outputs": [],
   "source": [
    "df_acumulado_muni['Confirmados'] = df_acumulado_muni['Confirmados'].astype('int')"
   ]
  },
  {
   "cell_type": "code",
   "execution_count": 81,
   "metadata": {},
   "outputs": [],
   "source": [
    "df_acumulado_muni['Óbitos'] = df_acumulado_muni['Óbitos'].astype('int')"
   ]
  },
  {
   "cell_type": "markdown",
   "metadata": {},
   "source": [
    "###### Na coluna 'Incidência' a virgula é utilizada com separador de valores decimais. Necessário substituir antes"
   ]
  },
  {
   "cell_type": "code",
   "execution_count": 82,
   "metadata": {},
   "outputs": [],
   "source": [
    "df_acumulado_muni['Incidência'] = df_acumulado_muni['Incidência'].apply(lambda val: float(val.replace(',','.')))"
   ]
  },
  {
   "cell_type": "code",
   "execution_count": 83,
   "metadata": {},
   "outputs": [],
   "source": [
    "df_acumulado_muni['População'] = df_acumulado_muni['População'].astype('int')"
   ]
  },
  {
   "cell_type": "code",
   "execution_count": 84,
   "metadata": {},
   "outputs": [],
   "source": [
    "df_acumulado_muni['CEP'] = df_acumulado_muni['CEP'].astype('int')"
   ]
  },
  {
   "cell_type": "markdown",
   "metadata": {},
   "source": [
    "### **IMPORTANDO CSV COM A BASE OFICIAL DO IBGE PARA OS MUNICÍPIOS DO PIAUÍ**"
   ]
  },
  {
   "cell_type": "code",
   "execution_count": 106,
   "metadata": {},
   "outputs": [],
   "source": [
    "df_municipios = pd.read_csv(\"input/municipios_piaui.csv\", encoding='utf-8')"
   ]
  },
  {
   "cell_type": "code",
   "execution_count": 107,
   "metadata": {},
   "outputs": [],
   "source": [
    "df_municipios = df_municipios.drop(columns={'NM_MESO',\n",
    "                                            'CD_GEOCME',\n",
    "                                            'NM_REGIAO'}\n",
    "                                  ).sort_values('NM_MUNICIP').reset_index(drop=True)"
   ]
  },
  {
   "cell_type": "code",
   "execution_count": 108,
   "metadata": {},
   "outputs": [],
   "source": [
    "df_municipios.columns = df_municipios.columns.str.lower()"
   ]
  },
  {
   "cell_type": "code",
   "execution_count": 109,
   "metadata": {},
   "outputs": [],
   "source": [
    "df_municipios.rename(columns={'nm_municip':'nm_cidade',\n",
    "                              'cd_geocmu':'id_cidade',\n",
    "                              'cd_geocmi':'id_micro',\n",
    "                              'cd_geocuf':'id_estado',\n",
    "                              'populacao_estimada_2019':'pop2019_est'}, inplace=True)"
   ]
  },
  {
   "cell_type": "code",
   "execution_count": 110,
   "metadata": {},
   "outputs": [
    {
     "data": {
      "text/html": [
       "<div>\n",
       "<style scoped>\n",
       "    .dataframe tbody tr th:only-of-type {\n",
       "        vertical-align: middle;\n",
       "    }\n",
       "\n",
       "    .dataframe tbody tr th {\n",
       "        vertical-align: top;\n",
       "    }\n",
       "\n",
       "    .dataframe thead th {\n",
       "        text-align: right;\n",
       "    }\n",
       "</style>\n",
       "<table border=\"1\" class=\"dataframe\">\n",
       "  <thead>\n",
       "    <tr style=\"text-align: right;\">\n",
       "      <th></th>\n",
       "      <th>nm_cidade</th>\n",
       "      <th>id_cidade</th>\n",
       "      <th>nm_micro</th>\n",
       "      <th>id_micro</th>\n",
       "      <th>nm_estado</th>\n",
       "      <th>id_estado</th>\n",
       "      <th>lng</th>\n",
       "      <th>lat</th>\n",
       "      <th>pop2019_est</th>\n",
       "    </tr>\n",
       "  </thead>\n",
       "  <tbody>\n",
       "    <tr>\n",
       "      <th>219</th>\n",
       "      <td>VILA NOVA DO PIAUÍ</td>\n",
       "      <td>2211605</td>\n",
       "      <td>ALTO MÉDIO CANINDÉ</td>\n",
       "      <td>22015</td>\n",
       "      <td>PIAUÍ</td>\n",
       "      <td>22</td>\n",
       "      <td>-40.936151</td>\n",
       "      <td>-7.202121</td>\n",
       "      <td>2971</td>\n",
       "    </tr>\n",
       "    <tr>\n",
       "      <th>220</th>\n",
       "      <td>VÁRZEA BRANCA</td>\n",
       "      <td>2211357</td>\n",
       "      <td>SÃO RAIMUNDO NONATO</td>\n",
       "      <td>22011</td>\n",
       "      <td>PIAUÍ</td>\n",
       "      <td>22</td>\n",
       "      <td>-42.921593</td>\n",
       "      <td>-9.322704</td>\n",
       "      <td>4947</td>\n",
       "    </tr>\n",
       "    <tr>\n",
       "      <th>221</th>\n",
       "      <td>VÁRZEA GRANDE</td>\n",
       "      <td>2211407</td>\n",
       "      <td>VALENÇA DO PIAUÍ</td>\n",
       "      <td>22006</td>\n",
       "      <td>PIAUÍ</td>\n",
       "      <td>22</td>\n",
       "      <td>-42.225271</td>\n",
       "      <td>-6.553657</td>\n",
       "      <td>4391</td>\n",
       "    </tr>\n",
       "    <tr>\n",
       "      <th>222</th>\n",
       "      <td>WALL FERRAZ</td>\n",
       "      <td>2211704</td>\n",
       "      <td>PICOS</td>\n",
       "      <td>22013</td>\n",
       "      <td>PIAUÍ</td>\n",
       "      <td>22</td>\n",
       "      <td>-41.877806</td>\n",
       "      <td>-7.265636</td>\n",
       "      <td>4462</td>\n",
       "    </tr>\n",
       "    <tr>\n",
       "      <th>223</th>\n",
       "      <td>ÁGUA BRANCA</td>\n",
       "      <td>2200202</td>\n",
       "      <td>MÉDIO PARNAÍBA PIAUIENSE</td>\n",
       "      <td>22005</td>\n",
       "      <td>PIAUÍ</td>\n",
       "      <td>22</td>\n",
       "      <td>-42.628069</td>\n",
       "      <td>-5.913995</td>\n",
       "      <td>17411</td>\n",
       "    </tr>\n",
       "  </tbody>\n",
       "</table>\n",
       "</div>"
      ],
      "text/plain": [
       "              nm_cidade  id_cidade                  nm_micro  id_micro  \\\n",
       "219  VILA NOVA DO PIAUÍ    2211605        ALTO MÉDIO CANINDÉ     22015   \n",
       "220       VÁRZEA BRANCA    2211357       SÃO RAIMUNDO NONATO     22011   \n",
       "221       VÁRZEA GRANDE    2211407          VALENÇA DO PIAUÍ     22006   \n",
       "222         WALL FERRAZ    2211704                     PICOS     22013   \n",
       "223         ÁGUA BRANCA    2200202  MÉDIO PARNAÍBA PIAUIENSE     22005   \n",
       "\n",
       "    nm_estado  id_estado        lng       lat  pop2019_est  \n",
       "219     PIAUÍ         22 -40.936151 -7.202121         2971  \n",
       "220     PIAUÍ         22 -42.921593 -9.322704         4947  \n",
       "221     PIAUÍ         22 -42.225271 -6.553657         4391  \n",
       "222     PIAUÍ         22 -41.877806 -7.265636         4462  \n",
       "223     PIAUÍ         22 -42.628069 -5.913995        17411  "
      ]
     },
     "execution_count": 110,
     "metadata": {},
     "output_type": "execute_result"
    }
   ],
   "source": [
    "df_municipios.tail()"
   ]
  },
  {
   "cell_type": "markdown",
   "metadata": {},
   "source": [
    "## CÓDIGO PARA FAZER A CORREÇÃO DOS NOMES ERRADOS DA BASE DO GOVERNO DO PIAUÍ\n",
    "\n",
    "LUIS HENRIQUE"
   ]
  },
  {
   "cell_type": "markdown",
   "metadata": {},
   "source": [
    "## Funções para limpeza dos dados do governo"
   ]
  },
  {
   "cell_type": "code",
   "execution_count": 111,
   "metadata": {},
   "outputs": [],
   "source": [
    "from unicodedata import normalize"
   ]
  },
  {
   "cell_type": "code",
   "execution_count": 112,
   "metadata": {},
   "outputs": [],
   "source": [
    "def remover_acentos(txt):\n",
    "    return normalize('NFKD', txt).encode('ASCII', 'ignore').decode('ASCII')"
   ]
  },
  {
   "cell_type": "code",
   "execution_count": 113,
   "metadata": {},
   "outputs": [],
   "source": [
    "def numero_letras_erradas_menor_dois(cidade1, cidade2):\n",
    "    diferenca = 0\n",
    "    if len(cidade1) != len(cidade2):\n",
    "        return False\n",
    "    for i, j in list(zip(list(cidade1), list(cidade2))):\n",
    "        if i != j:\n",
    "            diferenca += 1\n",
    "    return diferenca < 2"
   ]
  },
  {
   "cell_type": "code",
   "execution_count": 114,
   "metadata": {},
   "outputs": [],
   "source": [
    "def compara_cidades(cidade1, cidade2):\n",
    "    if cidade1.lower() == cidade2.lower():\n",
    "        return True\n",
    "    elif remover_acentos(cidade1.lower()) == remover_acentos(cidade2.lower()):\n",
    "        return True\n",
    "    elif numero_letras_erradas_menor_dois(remover_acentos(cidade1.lower()), remover_acentos(cidade2.lower())):\n",
    "        return True\n",
    "    else: \n",
    "        return False"
   ]
  },
  {
   "cell_type": "markdown",
   "metadata": {},
   "source": [
    "Gerar o numero de casos e óbitos para cada cidade"
   ]
  },
  {
   "cell_type": "code",
   "execution_count": 115,
   "metadata": {},
   "outputs": [],
   "source": [
    "confirmados = [0 for i in range(len(df_municipios['nm_cidade']))] # Gera um lista com 224 itens\n",
    "obitos = [0 for i in range(len(df_municipios['nm_cidade']))] # Gera um lista com 224 itens\n",
    "\n",
    "for itrIB, cIBGE in enumerate(df_municipios['nm_cidade']): \n",
    "    for itrCO, cCOVID in enumerate(df_acumulado_muni['Município']):\n",
    "        if compara_cidades(cIBGE, cCOVID):\n",
    "            confirmados[itrIB] = df_acumulado_muni['Confirmados'].iloc[itrCO]\n",
    "            obitos[itrIB] = df_acumulado_muni['Óbitos'].iloc[itrCO]"
   ]
  },
  {
   "cell_type": "markdown",
   "metadata": {},
   "source": [
    "#### ADICIONANDO INFORMAÇÕES DE CASOS ACUMULADOS (CONFIRMADOS E ÓBITOS) E DATA AO DATAFRAME DE MUNICÍPIOS DO IBGE"
   ]
  },
  {
   "cell_type": "code",
   "execution_count": 116,
   "metadata": {},
   "outputs": [],
   "source": [
    "df_municipios['confirmados_acum'] = confirmados\n",
    "df_municipios['obitos_acum'] = obitos"
   ]
  },
  {
   "cell_type": "code",
   "execution_count": 117,
   "metadata": {},
   "outputs": [],
   "source": [
    "for dt in df_municipios['nm_cidade']:\n",
    "    df_municipios['data'] = df_last_update['data_ult_atualizacao'][0]"
   ]
  },
  {
   "cell_type": "markdown",
   "metadata": {},
   "source": [
    "#### REORDENANDOS AS COLUNAS"
   ]
  },
  {
   "cell_type": "code",
   "execution_count": 118,
   "metadata": {},
   "outputs": [],
   "source": [
    "df_municipios = df_municipios[['data','id_cidade','nm_cidade','confirmados_acum','obitos_acum','pop2019_est','id_micro','nm_micro','id_estado','nm_estado','lng','lat']]"
   ]
  },
  {
   "cell_type": "markdown",
   "metadata": {},
   "source": [
    "VERIFICANDO O TIPO DOS DADOS"
   ]
  },
  {
   "cell_type": "code",
   "execution_count": 119,
   "metadata": {},
   "outputs": [
    {
     "data": {
      "text/plain": [
       "data                datetime64[ns]\n",
       "id_cidade                    int64\n",
       "nm_cidade                   object\n",
       "confirmados_acum             int64\n",
       "obitos_acum                  int64\n",
       "pop2019_est                  int64\n",
       "id_micro                     int64\n",
       "nm_micro                    object\n",
       "id_estado                    int64\n",
       "nm_estado                   object\n",
       "lng                        float64\n",
       "lat                        float64\n",
       "dtype: object"
      ]
     },
     "execution_count": 119,
     "metadata": {},
     "output_type": "execute_result"
    }
   ],
   "source": [
    "df_municipios.dtypes"
   ]
  },
  {
   "cell_type": "markdown",
   "metadata": {},
   "source": [
    "BUSCANDO TODOS OS MUNICÍPIOS COM CASOS CONFIRMADOS MAIORES QUE ZERO"
   ]
  },
  {
   "cell_type": "code",
   "execution_count": 120,
   "metadata": {},
   "outputs": [
    {
     "data": {
      "text/html": [
       "<div>\n",
       "<style scoped>\n",
       "    .dataframe tbody tr th:only-of-type {\n",
       "        vertical-align: middle;\n",
       "    }\n",
       "\n",
       "    .dataframe tbody tr th {\n",
       "        vertical-align: top;\n",
       "    }\n",
       "\n",
       "    .dataframe thead th {\n",
       "        text-align: right;\n",
       "    }\n",
       "</style>\n",
       "<table border=\"1\" class=\"dataframe\">\n",
       "  <thead>\n",
       "    <tr style=\"text-align: right;\">\n",
       "      <th></th>\n",
       "      <th>data</th>\n",
       "      <th>id_cidade</th>\n",
       "      <th>nm_cidade</th>\n",
       "      <th>confirmados_acum</th>\n",
       "      <th>obitos_acum</th>\n",
       "      <th>pop2019_est</th>\n",
       "      <th>id_micro</th>\n",
       "      <th>nm_micro</th>\n",
       "      <th>id_estado</th>\n",
       "      <th>nm_estado</th>\n",
       "      <th>lng</th>\n",
       "      <th>lat</th>\n",
       "    </tr>\n",
       "  </thead>\n",
       "  <tbody>\n",
       "    <tr>\n",
       "      <th>0</th>\n",
       "      <td>2020-05-12 19:00:00</td>\n",
       "      <td>2211001</td>\n",
       "      <td>TERESINA</td>\n",
       "      <td>937</td>\n",
       "      <td>26</td>\n",
       "      <td>864845</td>\n",
       "      <td>22003</td>\n",
       "      <td>TERESINA</td>\n",
       "      <td>22</td>\n",
       "      <td>PIAUÍ</td>\n",
       "      <td>-42.740648</td>\n",
       "      <td>-5.102260</td>\n",
       "    </tr>\n",
       "    <tr>\n",
       "      <th>1</th>\n",
       "      <td>2020-05-12 19:00:00</td>\n",
       "      <td>2207702</td>\n",
       "      <td>PARNAÍBA</td>\n",
       "      <td>89</td>\n",
       "      <td>4</td>\n",
       "      <td>153078</td>\n",
       "      <td>22002</td>\n",
       "      <td>LITORAL PIAUIENSE</td>\n",
       "      <td>22</td>\n",
       "      <td>PIAUÍ</td>\n",
       "      <td>-41.753544</td>\n",
       "      <td>-2.959207</td>\n",
       "    </tr>\n",
       "    <tr>\n",
       "      <th>2</th>\n",
       "      <td>2020-05-12 19:00:00</td>\n",
       "      <td>2208007</td>\n",
       "      <td>PICOS</td>\n",
       "      <td>75</td>\n",
       "      <td>3</td>\n",
       "      <td>78222</td>\n",
       "      <td>22013</td>\n",
       "      <td>PICOS</td>\n",
       "      <td>22</td>\n",
       "      <td>PIAUÍ</td>\n",
       "      <td>-41.522312</td>\n",
       "      <td>-7.058929</td>\n",
       "    </tr>\n",
       "    <tr>\n",
       "      <th>3</th>\n",
       "      <td>2020-05-12 19:00:00</td>\n",
       "      <td>2203701</td>\n",
       "      <td>ESPERANTINA</td>\n",
       "      <td>39</td>\n",
       "      <td>0</td>\n",
       "      <td>39737</td>\n",
       "      <td>22001</td>\n",
       "      <td>BAIXO PARNAÍBA PIAUIENSE</td>\n",
       "      <td>22</td>\n",
       "      <td>PIAUÍ</td>\n",
       "      <td>-42.189690</td>\n",
       "      <td>-3.823370</td>\n",
       "    </tr>\n",
       "    <tr>\n",
       "      <th>4</th>\n",
       "      <td>2020-05-12 19:00:00</td>\n",
       "      <td>2202208</td>\n",
       "      <td>CAMPO MAIOR</td>\n",
       "      <td>35</td>\n",
       "      <td>0</td>\n",
       "      <td>46833</td>\n",
       "      <td>22004</td>\n",
       "      <td>CAMPO MAIOR</td>\n",
       "      <td>22</td>\n",
       "      <td>PIAUÍ</td>\n",
       "      <td>-42.144995</td>\n",
       "      <td>-4.876786</td>\n",
       "    </tr>\n",
       "    <tr>\n",
       "      <th>...</th>\n",
       "      <td>...</td>\n",
       "      <td>...</td>\n",
       "      <td>...</td>\n",
       "      <td>...</td>\n",
       "      <td>...</td>\n",
       "      <td>...</td>\n",
       "      <td>...</td>\n",
       "      <td>...</td>\n",
       "      <td>...</td>\n",
       "      <td>...</td>\n",
       "      <td>...</td>\n",
       "      <td>...</td>\n",
       "    </tr>\n",
       "    <tr>\n",
       "      <th>87</th>\n",
       "      <td>2020-05-12 19:00:00</td>\n",
       "      <td>2208650</td>\n",
       "      <td>QUEIMADA NOVA</td>\n",
       "      <td>1</td>\n",
       "      <td>0</td>\n",
       "      <td>8992</td>\n",
       "      <td>22015</td>\n",
       "      <td>ALTO MÉDIO CANINDÉ</td>\n",
       "      <td>22</td>\n",
       "      <td>PIAUÍ</td>\n",
       "      <td>-41.351176</td>\n",
       "      <td>-8.516010</td>\n",
       "    </tr>\n",
       "    <tr>\n",
       "      <th>88</th>\n",
       "      <td>2020-05-12 19:00:00</td>\n",
       "      <td>2208700</td>\n",
       "      <td>REDENÇÃO DO GURGUÉIA</td>\n",
       "      <td>1</td>\n",
       "      <td>0</td>\n",
       "      <td>8778</td>\n",
       "      <td>22010</td>\n",
       "      <td>ALTO MÉDIO GURGUÉIA</td>\n",
       "      <td>22</td>\n",
       "      <td>PIAUÍ</td>\n",
       "      <td>-44.454712</td>\n",
       "      <td>-9.524275</td>\n",
       "    </tr>\n",
       "    <tr>\n",
       "      <th>89</th>\n",
       "      <td>2020-05-12 19:00:00</td>\n",
       "      <td>2208809</td>\n",
       "      <td>REGENERAÇÃO</td>\n",
       "      <td>1</td>\n",
       "      <td>0</td>\n",
       "      <td>17978</td>\n",
       "      <td>22005</td>\n",
       "      <td>MÉDIO PARNAÍBA PIAUIENSE</td>\n",
       "      <td>22</td>\n",
       "      <td>PIAUÍ</td>\n",
       "      <td>-42.490414</td>\n",
       "      <td>-6.352495</td>\n",
       "    </tr>\n",
       "    <tr>\n",
       "      <th>90</th>\n",
       "      <td>2020-05-12 19:00:00</td>\n",
       "      <td>2208874</td>\n",
       "      <td>RIBEIRA DO PIAUÍ</td>\n",
       "      <td>1</td>\n",
       "      <td>0</td>\n",
       "      <td>4477</td>\n",
       "      <td>22015</td>\n",
       "      <td>ALTO MÉDIO CANINDÉ</td>\n",
       "      <td>22</td>\n",
       "      <td>PIAUÍ</td>\n",
       "      <td>-42.613564</td>\n",
       "      <td>-7.927756</td>\n",
       "    </tr>\n",
       "    <tr>\n",
       "      <th>91</th>\n",
       "      <td>2020-05-12 19:00:00</td>\n",
       "      <td>2200301</td>\n",
       "      <td>ALTO LONGÁ</td>\n",
       "      <td>1</td>\n",
       "      <td>0</td>\n",
       "      <td>14304</td>\n",
       "      <td>22004</td>\n",
       "      <td>CAMPO MAIOR</td>\n",
       "      <td>22</td>\n",
       "      <td>PIAUÍ</td>\n",
       "      <td>-42.154980</td>\n",
       "      <td>-5.379079</td>\n",
       "    </tr>\n",
       "  </tbody>\n",
       "</table>\n",
       "<p>92 rows × 12 columns</p>\n",
       "</div>"
      ],
      "text/plain": [
       "                  data  id_cidade             nm_cidade  confirmados_acum  \\\n",
       "0  2020-05-12 19:00:00    2211001              TERESINA               937   \n",
       "1  2020-05-12 19:00:00    2207702              PARNAÍBA                89   \n",
       "2  2020-05-12 19:00:00    2208007                 PICOS                75   \n",
       "3  2020-05-12 19:00:00    2203701           ESPERANTINA                39   \n",
       "4  2020-05-12 19:00:00    2202208           CAMPO MAIOR                35   \n",
       "..                 ...        ...                   ...               ...   \n",
       "87 2020-05-12 19:00:00    2208650         QUEIMADA NOVA                 1   \n",
       "88 2020-05-12 19:00:00    2208700  REDENÇÃO DO GURGUÉIA                 1   \n",
       "89 2020-05-12 19:00:00    2208809           REGENERAÇÃO                 1   \n",
       "90 2020-05-12 19:00:00    2208874      RIBEIRA DO PIAUÍ                 1   \n",
       "91 2020-05-12 19:00:00    2200301            ALTO LONGÁ                 1   \n",
       "\n",
       "    obitos_acum  pop2019_est  id_micro                  nm_micro  id_estado  \\\n",
       "0            26       864845     22003                  TERESINA         22   \n",
       "1             4       153078     22002         LITORAL PIAUIENSE         22   \n",
       "2             3        78222     22013                     PICOS         22   \n",
       "3             0        39737     22001  BAIXO PARNAÍBA PIAUIENSE         22   \n",
       "4             0        46833     22004               CAMPO MAIOR         22   \n",
       "..          ...          ...       ...                       ...        ...   \n",
       "87            0         8992     22015        ALTO MÉDIO CANINDÉ         22   \n",
       "88            0         8778     22010       ALTO MÉDIO GURGUÉIA         22   \n",
       "89            0        17978     22005  MÉDIO PARNAÍBA PIAUIENSE         22   \n",
       "90            0         4477     22015        ALTO MÉDIO CANINDÉ         22   \n",
       "91            0        14304     22004               CAMPO MAIOR         22   \n",
       "\n",
       "   nm_estado        lng       lat  \n",
       "0      PIAUÍ -42.740648 -5.102260  \n",
       "1      PIAUÍ -41.753544 -2.959207  \n",
       "2      PIAUÍ -41.522312 -7.058929  \n",
       "3      PIAUÍ -42.189690 -3.823370  \n",
       "4      PIAUÍ -42.144995 -4.876786  \n",
       "..       ...        ...       ...  \n",
       "87     PIAUÍ -41.351176 -8.516010  \n",
       "88     PIAUÍ -44.454712 -9.524275  \n",
       "89     PIAUÍ -42.490414 -6.352495  \n",
       "90     PIAUÍ -42.613564 -7.927756  \n",
       "91     PIAUÍ -42.154980 -5.379079  \n",
       "\n",
       "[92 rows x 12 columns]"
      ]
     },
     "execution_count": 120,
     "metadata": {},
     "output_type": "execute_result"
    }
   ],
   "source": [
    "df_municipios.query('confirmados_acum > 0').sort_values(['confirmados_acum'], ascending=False).reset_index(drop=True)"
   ]
  },
  {
   "cell_type": "code",
   "execution_count": 121,
   "metadata": {},
   "outputs": [],
   "source": [
    "df_municipios['tx_incidencia'] = round((df_municipios['confirmados_acum'] / df_municipios['pop2019_est']) * 100000, 2)"
   ]
  },
  {
   "cell_type": "code",
   "execution_count": 122,
   "metadata": {},
   "outputs": [],
   "source": [
    "df_municipios['tx_mortalidade'] = round((df_municipios['obitos_acum'] / df_municipios['pop2019_est'] * 100000), 2)"
   ]
  },
  {
   "cell_type": "code",
   "execution_count": 123,
   "metadata": {},
   "outputs": [],
   "source": [
    "df_municipios['coef_letalidade'] = df_municipios['obitos_acum'] / df_municipios['confirmados_acum']"
   ]
  },
  {
   "cell_type": "code",
   "execution_count": 124,
   "metadata": {},
   "outputs": [
    {
     "data": {
      "text/html": [
       "<div>\n",
       "<style scoped>\n",
       "    .dataframe tbody tr th:only-of-type {\n",
       "        vertical-align: middle;\n",
       "    }\n",
       "\n",
       "    .dataframe tbody tr th {\n",
       "        vertical-align: top;\n",
       "    }\n",
       "\n",
       "    .dataframe thead th {\n",
       "        text-align: right;\n",
       "    }\n",
       "</style>\n",
       "<table border=\"1\" class=\"dataframe\">\n",
       "  <thead>\n",
       "    <tr style=\"text-align: right;\">\n",
       "      <th></th>\n",
       "      <th>data</th>\n",
       "      <th>id_cidade</th>\n",
       "      <th>nm_cidade</th>\n",
       "      <th>confirmados_acum</th>\n",
       "      <th>obitos_acum</th>\n",
       "      <th>pop2019_est</th>\n",
       "      <th>id_micro</th>\n",
       "      <th>nm_micro</th>\n",
       "      <th>id_estado</th>\n",
       "      <th>nm_estado</th>\n",
       "      <th>lng</th>\n",
       "      <th>lat</th>\n",
       "      <th>tx_incidencia</th>\n",
       "      <th>tx_mortalidade</th>\n",
       "      <th>coef_letalidade</th>\n",
       "    </tr>\n",
       "  </thead>\n",
       "  <tbody>\n",
       "    <tr>\n",
       "      <th>16</th>\n",
       "      <td>2020-05-12 19:00:00</td>\n",
       "      <td>2201150</td>\n",
       "      <td>BAIXA GRANDE DO RIBEIRO</td>\n",
       "      <td>5</td>\n",
       "      <td>1</td>\n",
       "      <td>11586</td>\n",
       "      <td>22007</td>\n",
       "      <td>ALTO PARNAÍBA PIAUIENSE</td>\n",
       "      <td>22</td>\n",
       "      <td>PIAUÍ</td>\n",
       "      <td>-45.160980</td>\n",
       "      <td>-8.505753</td>\n",
       "      <td>43.16</td>\n",
       "      <td>8.63</td>\n",
       "      <td>0.2</td>\n",
       "    </tr>\n",
       "    <tr>\n",
       "      <th>30</th>\n",
       "      <td>2020-05-12 19:00:00</td>\n",
       "      <td>2201919</td>\n",
       "      <td>BOM PRINCÍPIO DO PIAUÍ</td>\n",
       "      <td>1</td>\n",
       "      <td>1</td>\n",
       "      <td>5630</td>\n",
       "      <td>22002</td>\n",
       "      <td>LITORAL PIAUIENSE</td>\n",
       "      <td>22</td>\n",
       "      <td>PIAUÍ</td>\n",
       "      <td>-41.630631</td>\n",
       "      <td>-3.157407</td>\n",
       "      <td>17.76</td>\n",
       "      <td>17.76</td>\n",
       "      <td>1.0</td>\n",
       "    </tr>\n",
       "    <tr>\n",
       "      <th>35</th>\n",
       "      <td>2020-05-12 19:00:00</td>\n",
       "      <td>2202000</td>\n",
       "      <td>BURITI DOS LOPES</td>\n",
       "      <td>2</td>\n",
       "      <td>1</td>\n",
       "      <td>19781</td>\n",
       "      <td>22002</td>\n",
       "      <td>LITORAL PIAUIENSE</td>\n",
       "      <td>22</td>\n",
       "      <td>PIAUÍ</td>\n",
       "      <td>-41.803968</td>\n",
       "      <td>-3.239414</td>\n",
       "      <td>10.11</td>\n",
       "      <td>5.06</td>\n",
       "      <td>0.5</td>\n",
       "    </tr>\n",
       "    <tr>\n",
       "      <th>47</th>\n",
       "      <td>2020-05-12 19:00:00</td>\n",
       "      <td>2202307</td>\n",
       "      <td>CANTO DO BURITI</td>\n",
       "      <td>2</td>\n",
       "      <td>1</td>\n",
       "      <td>21187</td>\n",
       "      <td>22011</td>\n",
       "      <td>SÃO RAIMUNDO NONATO</td>\n",
       "      <td>22</td>\n",
       "      <td>PIAUÍ</td>\n",
       "      <td>-43.337609</td>\n",
       "      <td>-8.342575</td>\n",
       "      <td>9.44</td>\n",
       "      <td>4.72</td>\n",
       "      <td>0.5</td>\n",
       "    </tr>\n",
       "    <tr>\n",
       "      <th>55</th>\n",
       "      <td>2020-05-12 19:00:00</td>\n",
       "      <td>2202703</td>\n",
       "      <td>COCAL</td>\n",
       "      <td>2</td>\n",
       "      <td>1</td>\n",
       "      <td>27787</td>\n",
       "      <td>22002</td>\n",
       "      <td>LITORAL PIAUIENSE</td>\n",
       "      <td>22</td>\n",
       "      <td>PIAUÍ</td>\n",
       "      <td>-41.542303</td>\n",
       "      <td>-3.453676</td>\n",
       "      <td>7.20</td>\n",
       "      <td>3.60</td>\n",
       "      <td>0.5</td>\n",
       "    </tr>\n",
       "  </tbody>\n",
       "</table>\n",
       "</div>"
      ],
      "text/plain": [
       "                  data  id_cidade                nm_cidade  confirmados_acum  \\\n",
       "16 2020-05-12 19:00:00    2201150  BAIXA GRANDE DO RIBEIRO                 5   \n",
       "30 2020-05-12 19:00:00    2201919   BOM PRINCÍPIO DO PIAUÍ                 1   \n",
       "35 2020-05-12 19:00:00    2202000         BURITI DOS LOPES                 2   \n",
       "47 2020-05-12 19:00:00    2202307          CANTO DO BURITI                 2   \n",
       "55 2020-05-12 19:00:00    2202703                    COCAL                 2   \n",
       "\n",
       "    obitos_acum  pop2019_est  id_micro                 nm_micro  id_estado  \\\n",
       "16            1        11586     22007  ALTO PARNAÍBA PIAUIENSE         22   \n",
       "30            1         5630     22002        LITORAL PIAUIENSE         22   \n",
       "35            1        19781     22002        LITORAL PIAUIENSE         22   \n",
       "47            1        21187     22011      SÃO RAIMUNDO NONATO         22   \n",
       "55            1        27787     22002        LITORAL PIAUIENSE         22   \n",
       "\n",
       "   nm_estado        lng       lat  tx_incidencia  tx_mortalidade  \\\n",
       "16     PIAUÍ -45.160980 -8.505753          43.16            8.63   \n",
       "30     PIAUÍ -41.630631 -3.157407          17.76           17.76   \n",
       "35     PIAUÍ -41.803968 -3.239414          10.11            5.06   \n",
       "47     PIAUÍ -43.337609 -8.342575           9.44            4.72   \n",
       "55     PIAUÍ -41.542303 -3.453676           7.20            3.60   \n",
       "\n",
       "    coef_letalidade  \n",
       "16              0.2  \n",
       "30              1.0  \n",
       "35              0.5  \n",
       "47              0.5  \n",
       "55              0.5  "
      ]
     },
     "execution_count": 124,
     "metadata": {},
     "output_type": "execute_result"
    }
   ],
   "source": [
    "df_municipios.query('obitos_acum > 0').head()"
   ]
  },
  {
   "cell_type": "markdown",
   "metadata": {},
   "source": [
    "## Exportando CSV"
   ]
  },
  {
   "cell_type": "code",
   "execution_count": 199,
   "metadata": {},
   "outputs": [
    {
     "data": {
      "text/plain": [
       "Timestamp('2020-05-11 18:40:00')"
      ]
     },
     "execution_count": 199,
     "metadata": {},
     "output_type": "execute_result"
    }
   ],
   "source": [
    "df_muni_subset.loc[0, 'data']"
   ]
  },
  {
   "cell_type": "code",
   "execution_count": 125,
   "metadata": {},
   "outputs": [],
   "source": [
    "df_municipios.to_csv('output/dados_piaui_covid.csv', index=False, encoding='utf-8')"
   ]
  }
 ],
 "metadata": {
  "kernelspec": {
   "display_name": "Python 3",
   "language": "python",
   "name": "python3"
  },
  "language_info": {
   "codemirror_mode": {
    "name": "ipython",
    "version": 3
   },
   "file_extension": ".py",
   "mimetype": "text/x-python",
   "name": "python",
   "nbconvert_exporter": "python",
   "pygments_lexer": "ipython3",
   "version": "3.6.9"
  }
 },
 "nbformat": 4,
 "nbformat_minor": 4
}
