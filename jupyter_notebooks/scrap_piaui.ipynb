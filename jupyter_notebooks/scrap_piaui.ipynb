{
 "cells": [
  {
   "cell_type": "markdown",
   "metadata": {},
   "source": [
    "## Bibliotecas usadas "
   ]
  },
  {
   "cell_type": "code",
   "execution_count": 1,
   "metadata": {},
   "outputs": [],
   "source": [
    "import pandas as pd\n",
    "import requests\n",
    "import json \n",
    "from unicodedata import normalize"
   ]
  },
  {
   "cell_type": "markdown",
   "metadata": {},
   "source": [
    "## Pegando dados do governo"
   ]
  },
  {
   "cell_type": "code",
   "execution_count": 2,
   "metadata": {},
   "outputs": [],
   "source": [
    "url = 'http://coronavirus.pi.gov.br/'\n",
    "pagina = pd.read_html(url)\n",
    "dados_governo = pagina[0]"
   ]
  },
  {
   "cell_type": "code",
   "execution_count": 3,
   "metadata": {},
   "outputs": [],
   "source": [
    "dados_governo.columns = ['Cidade', 'Confirmados', 'Óbitos', 'Letalidade'] "
   ]
  },
  {
   "cell_type": "markdown",
   "metadata": {},
   "source": [
    "## Pegando dados do IBGE"
   ]
  },
  {
   "cell_type": "code",
   "execution_count": 4,
   "metadata": {},
   "outputs": [],
   "source": [
    "jsonCi = json.loads(requests.get('https://servicodados.ibge.gov.br/api/v1/localidades/estados/22/municipios').text)"
   ]
  },
  {
   "cell_type": "markdown",
   "metadata": {},
   "source": [
    "## Gerando o nome e IBGE ID de todas as cidades do Piauí"
   ]
  },
  {
   "cell_type": "code",
   "execution_count": 5,
   "metadata": {},
   "outputs": [],
   "source": [
    "nomes = []\n",
    "ids = []\n",
    "for i in jsonCi:\n",
    "    nomes.append(i['nome'])\n",
    "    ids.append(i['id'])"
   ]
  },
  {
   "cell_type": "markdown",
   "metadata": {},
   "source": [
    "## Funções para limpeza dos dados do governo"
   ]
  },
  {
   "cell_type": "code",
   "execution_count": 6,
   "metadata": {},
   "outputs": [],
   "source": [
    "def remover_acentos(txt):\n",
    "    return normalize('NFKD', txt).encode('ASCII', 'ignore').decode('ASCII')"
   ]
  },
  {
   "cell_type": "code",
   "execution_count": 7,
   "metadata": {},
   "outputs": [],
   "source": [
    "def numero_letras_erradas_menor_dois(cidade1, cidade2):\n",
    "    diferenca = 0\n",
    "    if len(cidade1) != len(cidade2):\n",
    "        return False\n",
    "    for i, j in list(zip(list(cidade1), list(cidade2))):\n",
    "        if i != j:\n",
    "            diferenca += 1\n",
    "    return diferenca < 2"
   ]
  },
  {
   "cell_type": "code",
   "execution_count": 8,
   "metadata": {},
   "outputs": [],
   "source": [
    "def compara_cidades(cidade1, cidade2):\n",
    "    if cidade1.lower() == cidade2.lower():\n",
    "        return True\n",
    "    elif remover_acentos(cidade1.lower()) == remover_acentos(cidade2.lower()):\n",
    "        return True\n",
    "    elif numero_letras_erradas_menor_dois(remover_acentos(cidade1.lower()), remover_acentos(cidade2.lower())):\n",
    "        return True\n",
    "    else: \n",
    "        return False"
   ]
  },
  {
   "cell_type": "markdown",
   "metadata": {},
   "source": [
    "## Gerar o numero de casos e óbitos para cada cidade"
   ]
  },
  {
   "cell_type": "code",
   "execution_count": 9,
   "metadata": {},
   "outputs": [],
   "source": [
    "casos = [0 for i in range(len(nomes))]\n",
    "obitos = [0 for i in range(len(nomes))]\n",
    "for itrIB, cIBGE in enumerate(nomes):\n",
    "    for itrCO, cCOVID in enumerate(dados_governo.Cidade):\n",
    "        if compara_cidades(cIBGE, cCOVID):\n",
    "            casos[itrIB] = dados_governo.Confirmados.iloc[itrCO]\n",
    "            obitos[itrIB] = dados_governo['Óbitos'].iloc[itrCO]\n",
    "            "
   ]
  },
  {
   "cell_type": "markdown",
   "metadata": {},
   "source": [
    "## Gerando DataFrame"
   ]
  },
  {
   "cell_type": "code",
   "execution_count": 10,
   "metadata": {},
   "outputs": [
    {
     "data": {
      "text/html": [
       "<div>\n",
       "<style scoped>\n",
       "    .dataframe tbody tr th:only-of-type {\n",
       "        vertical-align: middle;\n",
       "    }\n",
       "\n",
       "    .dataframe tbody tr th {\n",
       "        vertical-align: top;\n",
       "    }\n",
       "\n",
       "    .dataframe thead th {\n",
       "        text-align: right;\n",
       "    }\n",
       "</style>\n",
       "<table border=\"1\" class=\"dataframe\">\n",
       "  <thead>\n",
       "    <tr style=\"text-align: right;\">\n",
       "      <th></th>\n",
       "      <th>name</th>\n",
       "      <th>id</th>\n",
       "      <th>casos</th>\n",
       "      <th>obitos</th>\n",
       "    </tr>\n",
       "  </thead>\n",
       "  <tbody>\n",
       "    <tr>\n",
       "      <th>0</th>\n",
       "      <td>Acauã</td>\n",
       "      <td>2200053</td>\n",
       "      <td>0</td>\n",
       "      <td>0</td>\n",
       "    </tr>\n",
       "    <tr>\n",
       "      <th>1</th>\n",
       "      <td>Agricolândia</td>\n",
       "      <td>2200103</td>\n",
       "      <td>0</td>\n",
       "      <td>0</td>\n",
       "    </tr>\n",
       "    <tr>\n",
       "      <th>2</th>\n",
       "      <td>Água Branca</td>\n",
       "      <td>2200202</td>\n",
       "      <td>13</td>\n",
       "      <td>0</td>\n",
       "    </tr>\n",
       "    <tr>\n",
       "      <th>3</th>\n",
       "      <td>Alagoinha do Piauí</td>\n",
       "      <td>2200251</td>\n",
       "      <td>0</td>\n",
       "      <td>0</td>\n",
       "    </tr>\n",
       "    <tr>\n",
       "      <th>4</th>\n",
       "      <td>Alegrete do Piauí</td>\n",
       "      <td>2200277</td>\n",
       "      <td>0</td>\n",
       "      <td>0</td>\n",
       "    </tr>\n",
       "    <tr>\n",
       "      <th>...</th>\n",
       "      <td>...</td>\n",
       "      <td>...</td>\n",
       "      <td>...</td>\n",
       "      <td>...</td>\n",
       "    </tr>\n",
       "    <tr>\n",
       "      <th>219</th>\n",
       "      <td>Várzea Branca</td>\n",
       "      <td>2211357</td>\n",
       "      <td>0</td>\n",
       "      <td>0</td>\n",
       "    </tr>\n",
       "    <tr>\n",
       "      <th>220</th>\n",
       "      <td>Várzea Grande</td>\n",
       "      <td>2211407</td>\n",
       "      <td>1</td>\n",
       "      <td>0</td>\n",
       "    </tr>\n",
       "    <tr>\n",
       "      <th>221</th>\n",
       "      <td>Vera Mendes</td>\n",
       "      <td>2211506</td>\n",
       "      <td>0</td>\n",
       "      <td>0</td>\n",
       "    </tr>\n",
       "    <tr>\n",
       "      <th>222</th>\n",
       "      <td>Vila Nova do Piauí</td>\n",
       "      <td>2211605</td>\n",
       "      <td>2</td>\n",
       "      <td>0</td>\n",
       "    </tr>\n",
       "    <tr>\n",
       "      <th>223</th>\n",
       "      <td>Wall Ferraz</td>\n",
       "      <td>2211704</td>\n",
       "      <td>0</td>\n",
       "      <td>0</td>\n",
       "    </tr>\n",
       "  </tbody>\n",
       "</table>\n",
       "<p>224 rows × 4 columns</p>\n",
       "</div>"
      ],
      "text/plain": [
       "                   name       id  casos  obitos\n",
       "0                 Acauã  2200053      0       0\n",
       "1          Agricolândia  2200103      0       0\n",
       "2           Água Branca  2200202     13       0\n",
       "3    Alagoinha do Piauí  2200251      0       0\n",
       "4     Alegrete do Piauí  2200277      0       0\n",
       "..                  ...      ...    ...     ...\n",
       "219       Várzea Branca  2211357      0       0\n",
       "220       Várzea Grande  2211407      1       0\n",
       "221         Vera Mendes  2211506      0       0\n",
       "222  Vila Nova do Piauí  2211605      2       0\n",
       "223         Wall Ferraz  2211704      0       0\n",
       "\n",
       "[224 rows x 4 columns]"
      ]
     },
     "execution_count": 10,
     "metadata": {},
     "output_type": "execute_result"
    }
   ],
   "source": [
    "dados_piaui = pd.DataFrame({'name': nomes, \n",
    "                            'id': ids,\n",
    "                            'casos': casos,\n",
    "                            'obitos': obitos})\n",
    "dados_piaui"
   ]
  },
  {
   "cell_type": "markdown",
   "metadata": {},
   "source": [
    "## Exportando CSV"
   ]
  },
  {
   "cell_type": "code",
   "execution_count": 11,
   "metadata": {},
   "outputs": [],
   "source": [
    "dados_piaui.to_csv('dados_piaui.csv', index=False, header=False)"
   ]
  }
 ],
 "metadata": {
  "kernelspec": {
   "display_name": "Python 3",
   "language": "python",
   "name": "python3"
  },
  "language_info": {
   "codemirror_mode": {
    "name": "ipython",
    "version": 3
   },
   "file_extension": ".py",
   "mimetype": "text/x-python",
   "name": "python",
   "nbconvert_exporter": "python",
   "pygments_lexer": "ipython3",
   "version": "3.6.9"
  }
 },
 "nbformat": 4,
 "nbformat_minor": 4
}
